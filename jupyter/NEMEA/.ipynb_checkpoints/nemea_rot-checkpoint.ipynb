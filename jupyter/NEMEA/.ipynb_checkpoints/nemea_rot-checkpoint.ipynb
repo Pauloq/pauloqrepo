{
 "cells": [
  {
   "cell_type": "code",
   "execution_count": 1,
   "metadata": {
    "collapsed": true
   },
   "outputs": [],
   "source": [
    "from pandas import DataFrame, read_csv, datetime, Series, Timestamp\n",
    "import matplotlib.pyplot as plt\n",
    "import pandas as pd\n",
    "import matplotlib\n",
    "import numpy as np\n",
    "from pandas.tseries.offsets import *\n",
    "import time\n",
    "import datetime\n",
    "#%matplotlib inline"
   ]
  },
  {
   "cell_type": "code",
   "execution_count": 2,
   "metadata": {
    "collapsed": false,
    "scrolled": true
   },
   "outputs": [
    {
     "data": {
      "text/html": [
       "<div>\n",
       "<table border=\"1\" class=\"dataframe\">\n",
       "  <thead>\n",
       "    <tr style=\"text-align: right;\">\n",
       "      <th></th>\n",
       "      <th>Codigo</th>\n",
       "    </tr>\n",
       "  </thead>\n",
       "  <tbody>\n",
       "    <tr>\n",
       "      <th>0</th>\n",
       "      <td>* NMEA Latitude =</td>\n",
       "    </tr>\n",
       "    <tr>\n",
       "      <th>1</th>\n",
       "      <td>* NMEA Longitude =</td>\n",
       "    </tr>\n",
       "    <tr>\n",
       "      <th>2</th>\n",
       "      <td>* NMEA UTC (Time) =</td>\n",
       "    </tr>\n",
       "    <tr>\n",
       "      <th>3</th>\n",
       "      <td>* Store Lat/Lon Data = Add to Header Only</td>\n",
       "    </tr>\n",
       "  </tbody>\n",
       "</table>\n",
       "</div>"
      ],
      "text/plain": [
       "                                      Codigo\n",
       "0                          * NMEA Latitude =\n",
       "1                         * NMEA Longitude =\n",
       "2                        * NMEA UTC (Time) =\n",
       "3  * Store Lat/Lon Data = Add to Header Only"
      ]
     },
     "execution_count": 2,
     "metadata": {},
     "output_type": "execute_result"
    }
   ],
   "source": [
    "local = r'/home/pauloque/programacao/pauloqrepo/jupyter/NEMEA/NEMEA.xlsx'\n",
    "dfp = pd.read_excel(local)\n",
    "dfp"
   ]
  },
  {
   "cell_type": "code",
   "execution_count": 3,
   "metadata": {
    "collapsed": false
   },
   "outputs": [
    {
     "data": {
      "text/html": [
       "<div>\n",
       "<table border=\"1\" class=\"dataframe\">\n",
       "  <thead>\n",
       "    <tr style=\"text-align: right;\">\n",
       "      <th></th>\n",
       "      <th>* Sea-Bird SBE 9 Data File:</th>\n",
       "    </tr>\n",
       "  </thead>\n",
       "  <tbody>\n",
       "    <tr>\n",
       "      <th>0</th>\n",
       "      <td>* FileName = D:\\ACEX\\MCTV001.hex</td>\n",
       "    </tr>\n",
       "    <tr>\n",
       "      <th>1</th>\n",
       "      <td>* Software Version Seasave V 7.17</td>\n",
       "    </tr>\n",
       "    <tr>\n",
       "      <th>2</th>\n",
       "      <td>* Temperature SN = 4821</td>\n",
       "    </tr>\n",
       "    <tr>\n",
       "      <th>3</th>\n",
       "      <td>* Conductivity SN = 3367</td>\n",
       "    </tr>\n",
       "    <tr>\n",
       "      <th>4</th>\n",
       "      <td>* Number of Bytes Per Scan = 18</td>\n",
       "    </tr>\n",
       "    <tr>\n",
       "      <th>5</th>\n",
       "      <td>* Number of Voltage Words = 2</td>\n",
       "    </tr>\n",
       "    <tr>\n",
       "      <th>6</th>\n",
       "      <td>* Number of Scans Averaged by the Deck Unit = 1</td>\n",
       "    </tr>\n",
       "    <tr>\n",
       "      <th>7</th>\n",
       "      <td>* System UpLoad Time = Jun 12 2012 10:34:17</td>\n",
       "    </tr>\n",
       "    <tr>\n",
       "      <th>8</th>\n",
       "      <td>** H38</td>\n",
       "    </tr>\n",
       "    <tr>\n",
       "      <th>9</th>\n",
       "      <td>** NHo Cruzeiro do Sul</td>\n",
       "    </tr>\n",
       "  </tbody>\n",
       "</table>\n",
       "</div>"
      ],
      "text/plain": [
       "                       * Sea-Bird SBE 9 Data File:\n",
       "0                 * FileName = D:\\ACEX\\MCTV001.hex\n",
       "1                * Software Version Seasave V 7.17\n",
       "2                          * Temperature SN = 4821\n",
       "3                         * Conductivity SN = 3367\n",
       "4                  * Number of Bytes Per Scan = 18\n",
       "5                    * Number of Voltage Words = 2\n",
       "6  * Number of Scans Averaged by the Deck Unit = 1\n",
       "7      * System UpLoad Time = Jun 12 2012 10:34:17\n",
       "8                                           ** H38\n",
       "9                           ** NHo Cruzeiro do Sul"
      ]
     },
     "execution_count": 3,
     "metadata": {},
     "output_type": "execute_result"
    }
   ],
   "source": [
    "local2 = r'/home/pauloque/programacao/pauloqrepo/jupyter/NEMEA/cnvs/dMCTV001.xlsx'\n",
    "dfp2 = pd.read_excel(local2)\n",
    "dfp2.head(10)"
   ]
  },
  {
   "cell_type": "code",
   "execution_count": 4,
   "metadata": {
    "collapsed": false
   },
   "outputs": [
    {
     "name": "stdout",
     "output_type": "stream",
     "text": [
      "oi\n"
     ]
    }
   ],
   "source": [
    "cnv = []\n",
    "for i in dfp2['* Sea-Bird SBE 9 Data File:']:\n",
    "    cnv.append(i)\n",
    "\n",
    "#a = cnv[7:8]\n",
    "#astr = str(a[0])\n",
    "#astr[0:3]\n",
    "if cnv[7].startswith('* System UpLoad Time ='):\n",
    "    print('oi')"
   ]
  },
  {
   "cell_type": "code",
   "execution_count": 5,
   "metadata": {
    "collapsed": false
   },
   "outputs": [
    {
     "data": {
      "text/plain": [
       "['* NMEA Latitude =',\n",
       " '* NMEA Longitude =',\n",
       " '* NMEA UTC (Time) =',\n",
       " '* Store Lat/Lon Data = Add to Header Only']"
      ]
     },
     "execution_count": 5,
     "metadata": {},
     "output_type": "execute_result"
    }
   ],
   "source": [
    "cnvnemea = []\n",
    "for k in dfp['Codigo']:\n",
    "    cnvnemea.append(k)\n",
    "cnvnemea"
   ]
  },
  {
   "cell_type": "code",
   "execution_count": 6,
   "metadata": {
    "collapsed": false
   },
   "outputs": [],
   "source": [
    "cnvredondo = []\n",
    "for p in cnv:\n",
    "    cnvredondo.append(p)\n",
    "    if p == cnv[7]:\n",
    "        for k in range(len(cnvnemea)):\n",
    "            cnvredondo.append(cnvnemea[k])\n",
    "#cnvredondo\n"
   ]
  },
  {
   "cell_type": "code",
   "execution_count": 9,
   "metadata": {
    "collapsed": false
   },
   "outputs": [],
   "source": [
    "#cnvlat = cnv[13][4:15]\n",
    "#cnvlon = cnv[14][4:16]\n",
    "#cnvlat"
   ]
  },
  {
   "cell_type": "code",
   "execution_count": 25,
   "metadata": {
    "collapsed": false
   },
   "outputs": [
    {
     "name": "stdout",
     "output_type": "stream",
     "text": [
      "14/06/2012 05:05\n"
     ]
    }
   ],
   "source": [
    "#Timestamp\n",
    "h = ('14/06/2012 05:05')\n",
    "Timestamp(h)\n",
    "print(h)"
   ]
  },
  {
   "cell_type": "code",
   "execution_count": 7,
   "metadata": {
    "collapsed": false
   },
   "outputs": [
    {
     "name": "stdout",
     "output_type": "stream",
     "text": [
      "['**  25 59.557 S']\n",
      "['**  045 32.712 W']\n",
      "['**  25 59.557 S', '35791 164.457734    -78.845    449.763     8.0187   3.646622     3.2955    446.000     7.9723    35.0369  1029.3433    27.3001    6.59536 0.0000e+00']\n"
     ]
    }
   ],
   "source": [
    "#Importante usar essas condicoes para encontrar no cnv qualquer \n",
    "#os dados a serem implemntados no formato nemea\n",
    "cnvlat = []\n",
    "for lat in range(len(cnv)):\n",
    "    if cnv[lat].startswith('**') and cnv[lat].endswith('S'):\n",
    "        cnvlat.append(cnv[lat])\n",
    "print(cnvlat)\n",
    "\n",
    "cnvlon = []\n",
    "for lon in range(len(cnv)):\n",
    "    if cnv[lon].startswith('**') and cnv[lon].endswith('W'):\n",
    "        cnvlon.append(cnv[lon])\n",
    "print(cnvlon)  \n",
    "\n",
    "cnvhor = []\n",
    "for hor in range(len(cnv)):\n",
    "    if cnv[hor].startswith('**') and cnv[hor].endswith('S'):\n",
    "        cnvlat.append(cnv[lat])\n",
    "print(cnvlat)"
   ]
  },
  {
   "cell_type": "code",
   "execution_count": 12,
   "metadata": {
    "collapsed": false
   },
   "outputs": [
    {
     "data": {
      "text/plain": [
       "'* NMEA Latitude =  25 59.557 S'"
      ]
     },
     "execution_count": 12,
     "metadata": {},
     "output_type": "execute_result"
    }
   ],
   "source": [
    "#cnvnemea + latlon teste\n",
    "testel = str(cnvredondo[8]) + str(cnvlat[0][2:15])\n",
    "testel"
   ]
  },
  {
   "cell_type": "code",
   "execution_count": 8,
   "metadata": {
    "collapsed": false
   },
   "outputs": [
    {
     "name": "stdout",
     "output_type": "stream",
     "text": [
      "* NMEA Latitude =  25 59.557 S\n",
      "* NMEA Longitude =  045 32.712 W\n"
     ]
    }
   ],
   "source": [
    "#cnvnemea + latlon \n",
    "strlat = str(cnvnemea[0]) + str(cnvlat[0][2:15])\n",
    "print(strlat)\n",
    "strlon = str(cnvnemea[1]) + str(cnvlon[0][2:16])\n",
    "print(strlon)\n"
   ]
  },
  {
   "cell_type": "code",
   "execution_count": 66,
   "metadata": {
    "collapsed": false
   },
   "outputs": [
    {
     "data": {
      "text/plain": [
       "['* NMEA Latitude =  25 59.557 S',\n",
       " '* NMEA Longitude =  045 32.712 W',\n",
       " '* NMEA UTC (Time) = Jun 06 2012 13:33:00',\n",
       " '* Store Lat/Lon Data = Add to Header Only']"
      ]
     },
     "execution_count": 66,
     "metadata": {},
     "output_type": "execute_result"
    }
   ],
   "source": [
    "cnvnemeal = [strlat, strlon, dataredonda, cnvnemea[3]]\n",
    "cnvnemeal"
   ]
  },
  {
   "cell_type": "code",
   "execution_count": null,
   "metadata": {
    "collapsed": true
   },
   "outputs": [],
   "source": [
    "#Trabalhando com a data"
   ]
  },
  {
   "cell_type": "markdown",
   "metadata": {},
   "source": [
    "NAO EH TAO INTERESSANTE QUANTO O STRPTIME\n",
    "mes = Timestamp('19/03/1994')\n",
    "strmes = []\n",
    "s = str(mes)\n",
    "strmes.append(s)\n",
    "print(strmes)"
   ]
  },
  {
   "cell_type": "code",
   "execution_count": 44,
   "metadata": {
    "collapsed": false
   },
   "outputs": [
    {
     "data": {
      "text/plain": [
       "'2008-12-21'"
      ]
     },
     "execution_count": 44,
     "metadata": {},
     "output_type": "execute_result"
    }
   ],
   "source": [
    "dd = datetime.datetime.strptime(\"21/12/2008\", \"%d/%m/%Y\").strftime(\"%Y-%m-%d\")\n",
    "type(dd)\n",
    "dd"
   ]
  },
  {
   "cell_type": "code",
   "execution_count": 51,
   "metadata": {
    "collapsed": false
   },
   "outputs": [
    {
     "data": {
      "text/plain": [
       "'2008, 12, 21'"
      ]
     },
     "execution_count": 51,
     "metadata": {},
     "output_type": "execute_result"
    }
   ],
   "source": [
    "x = dd.replace('-', ', ' )\n",
    "x"
   ]
  },
  {
   "cell_type": "code",
   "execution_count": 63,
   "metadata": {
    "collapsed": false
   },
   "outputs": [
    {
     "data": {
      "text/plain": [
       "'(2008, 12, 21)'"
      ]
     },
     "execution_count": 63,
     "metadata": {},
     "output_type": "execute_result"
    }
   ],
   "source": [
    "strdd = '(' + x[0:] + ')'\n",
    "strdd"
   ]
  },
  {
   "cell_type": "code",
   "execution_count": 87,
   "metadata": {
    "collapsed": false
   },
   "outputs": [
    {
     "name": "stdout",
     "output_type": "stream",
     "text": [
      "2008 12 21\n"
     ]
    }
   ],
   "source": [
    "in1 = strdd[1:5]\n",
    "in2 = strdd[7:9]\n",
    "in3 = strdd[11:13]\n",
    "\n",
    "yyyy = int(in1)\n",
    "mm = int(in2)\n",
    "d = int(in3)\n",
    "\n",
    "print(in1, in2, in3)"
   ]
  },
  {
   "cell_type": "code",
   "execution_count": 88,
   "metadata": {
    "collapsed": false,
    "scrolled": true
   },
   "outputs": [
    {
     "data": {
      "text/plain": [
       "'Dec'"
      ]
     },
     "execution_count": 88,
     "metadata": {},
     "output_type": "execute_result"
    }
   ],
   "source": [
    "#Month Name\n",
    "month = datetime.date(yyyy, mm, d).strftime('%b')\n",
    "month"
   ]
  },
  {
   "cell_type": "code",
   "execution_count": null,
   "metadata": {
    "collapsed": true
   },
   "outputs": [],
   "source": [
    "#generalizando em loop a data"
   ]
  },
  {
   "cell_type": "code",
   "execution_count": 16,
   "metadata": {
    "collapsed": false
   },
   "outputs": [
    {
     "name": "stdout",
     "output_type": "stream",
     "text": [
      "['**   12/06/2012 13:33Z']\n"
     ]
    }
   ],
   "source": [
    "#encontrando a hora\n",
    "cnvdat = []\n",
    "for dat in range(len(cnv)):\n",
    "    if cnv[dat].startswith('**') and cnv[dat].endswith('Z'):\n",
    "        cnvdat.append(cnv[dat])\n",
    "print(cnvdat)"
   ]
  },
  {
   "cell_type": "code",
   "execution_count": 65,
   "metadata": {
    "collapsed": false
   },
   "outputs": [],
   "source": [
    "#ajustando a data para o formato nemea\n",
    "strdata = str(cnvdat)\n",
    "datafat = strdata[7:17]\n",
    "horafat = strdata[18:23]\n",
    "\n",
    "yearfirst = datetime.datetime.strptime(datafat, \"%d/%m/%Y\").strftime(\"%Y-%m-%d\")\n",
    "\n",
    "ina = yearfirst[0:4]\n",
    "inb = yearfirst[5:7]\n",
    "inc = yearfirst[8:10]\n",
    "\n",
    "yyyy = int(ina)\n",
    "mm = int(inb)\n",
    "d = int(inc)\n",
    "\n",
    "#print(yyyy, mm, d)\n",
    "#print(ina, inb, inc)\n",
    "\n",
    "month = datetime.date(yyyy, mm, d).strftime('%b')\n",
    "month\n",
    "\n",
    "datared = (month + ' ' + inb + ' ' + ina + ' ' + horafat + ':00')\n",
    "datared\n",
    "\n",
    "dataredonda = str(cnvnemea[2]) + ' ' +datared"
   ]
  },
  {
   "cell_type": "code",
   "execution_count": 57,
   "metadata": {
    "collapsed": false
   },
   "outputs": [
    {
     "data": {
      "text/plain": [
       "'13:33'"
      ]
     },
     "execution_count": 57,
     "metadata": {},
     "output_type": "execute_result"
    }
   ],
   "source": [
    "horafat"
   ]
  },
  {
   "cell_type": "code",
   "execution_count": null,
   "metadata": {
    "collapsed": true
   },
   "outputs": [],
   "source": [
    "#cnvnemea + hora"
   ]
  },
  {
   "cell_type": "code",
   "execution_count": 70,
   "metadata": {
    "collapsed": false
   },
   "outputs": [],
   "source": [
    "cnvredondao = []\n",
    "for p in cnv:\n",
    "    cnvredondao.append(p)\n",
    "    if p == cnv[7]:\n",
    "        \n",
    "        for k in range(len(cnvnemeal)):\n",
    "            cnvredondao.append(cnvnemeal[k])\n",
    "#cnvredondao            "
   ]
  },
  {
   "cell_type": "code",
   "execution_count": 68,
   "metadata": {
    "collapsed": true
   },
   "outputs": [],
   "source": [
    "produto = pd.DataFrame(data = cnvredondao)"
   ]
  },
  {
   "cell_type": "code",
   "execution_count": 17,
   "metadata": {
    "collapsed": false
   },
   "outputs": [],
   "source": [
    "#produto"
   ]
  },
  {
   "cell_type": "code",
   "execution_count": 72,
   "metadata": {
    "collapsed": false
   },
   "outputs": [],
   "source": [
    "produto.to_excel('produto1.xlsx',index=False,header=False)"
   ]
  },
  {
   "cell_type": "code",
   "execution_count": null,
   "metadata": {
    "collapsed": true
   },
   "outputs": [],
   "source": []
  }
 ],
 "metadata": {
  "kernelspec": {
   "display_name": "Python 3",
   "language": "python",
   "name": "python3"
  },
  "language_info": {
   "codemirror_mode": {
    "name": "ipython",
    "version": 3
   },
   "file_extension": ".py",
   "mimetype": "text/x-python",
   "name": "python",
   "nbconvert_exporter": "python",
   "pygments_lexer": "ipython3",
   "version": "3.5.1"
  }
 },
 "nbformat": 4,
 "nbformat_minor": 0
}

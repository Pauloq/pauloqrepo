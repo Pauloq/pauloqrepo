{
 "cells": [
  {
   "cell_type": "code",
   "execution_count": null,
   "metadata": {
    "collapsed": false
   },
   "outputs": [],
   "source": [
    "from pandas import DataFrame, read_csv, datetime, Series, Timestamp\n",
    "import matplotlib.pyplot as plt\n",
    "import pandas as pd\n",
    "import matplotlib\n",
    "import numpy as np\n",
    "from pandas.tseries.offsets import *\n",
    "import time\n",
    "import datetime\n",
    "#%matplotlib inline\n",
    "\n",
    "\n",
    "local = r'/home/pauloque/programacao/pauloqrepo/jupyter/NEMEA/NEMEA.xlsx'\n",
    "dfp = pd.read_excel(local)\n",
    "\n",
    "local2 = r'/home/pauloque/programacao/pauloqrepo/jupyter/NEMEA/cnvs/dMCTV001.xlsx'\n",
    "dfp2 = pd.read_excel(local2)\n",
    "\n",
    "cnv = []\n",
    "for i in dfp2['* Sea-Bird SBE 9 Data File:']:\n",
    "    cnv.append(i)\n",
    "    \n",
    "cnvnemea = []\n",
    "for k in dfp['Codigo']:\n",
    "    cnvnemea.append(k)\n",
    "\n",
    "    \n",
    "#Dados a serem implemntados no formato nemea\n",
    "\n",
    "cnvlat = []\n",
    "for lat in range(len(cnv)):\n",
    "    if cnv[lat].startswith('**') and cnv[lat].endswith('S'):\n",
    "        cnvlat.append(cnv[lat])\n",
    "\n",
    "\n",
    "cnvlon = []\n",
    "for lon in range(len(cnv)):\n",
    "    if cnv[lon].startswith('**') and cnv[lon].endswith('W'):\n",
    "        cnvlon.append(cnv[lon])\n",
    " \n",
    "\n",
    "cnvdat = []\n",
    "for dat in range(len(cnv)):\n",
    "    if cnv[dat].startswith('**') and cnv[dat].endswith('Z'):\n",
    "        cnvdat.append(cnv[dat])\n",
    "\n",
    "#cnvnemea + latlon         \n",
    "strlat = str(cnvnemea[0]) + str(cnvlat[0][2:15])\n",
    "\n",
    "strlon = str(cnvnemea[1]) + str(cnvlon[0][2:16])\n",
    "\n",
    "        \n",
    "#ajustando a data para o formato nemea\n",
    "strdata = str(cnvdat)\n",
    "datafat = strdata[7:17]\n",
    "horafat = strdata[18:23]\n",
    "\n",
    "yearfirst = datetime.datetime.strptime(datafat, \"%d/%m/%Y\").strftime(\"%Y-%m-%d\")\n",
    "\n",
    "ina = yearfirst[0:4]\n",
    "inb = yearfirst[5:7]\n",
    "inc = yearfirst[8:10]\n",
    "\n",
    "yyyy = int(ina)\n",
    "mm = int(inb)\n",
    "d = int(inc)\n",
    "\n",
    "#print(yyyy, mm, d)\n",
    "#print(ina, inb, inc)\n",
    "\n",
    "month = datetime.date(yyyy, mm, d).strftime('%b')\n",
    "#month\n",
    "\n",
    "datared = (month + ' ' + inb + ' ' + ina + ' ' + horafat + ':00')\n",
    "#datared\n",
    "\n",
    "#cnvnemea + data\n",
    "dataredonda = str(cnvnemea[2]) + ' ' + datared\n",
    "\n",
    "\n",
    "\n",
    "cnvnemeal = [strlat, strlon, dataredonda, cnvnemea[3]]\n",
    "\n",
    "\n",
    "#Integrando tudo\n",
    "\n",
    "cnvredondao = []\n",
    "for p in cnv:\n",
    "    cnvredondao.append(p)\n",
    "    if p == cnv[7]:\n",
    "        \n",
    "        for k in range(len(cnvnemeal)):\n",
    "            cnvredondao.append(cnvnemeal[k])\n",
    "#cnvredondao            "
   ]
  },
  {
   "cell_type": "code",
   "execution_count": null,
   "metadata": {
    "collapsed": false
   },
   "outputs": [],
   "source": [
    "datafat"
   ]
  },
  {
   "cell_type": "code",
   "execution_count": null,
   "metadata": {
    "collapsed": true
   },
   "outputs": [],
   "source": []
  }
 ],
 "metadata": {
  "kernelspec": {
   "display_name": "Python 3",
   "language": "python",
   "name": "python3"
  },
  "language_info": {
   "codemirror_mode": {
    "name": "ipython",
    "version": 3
   },
   "file_extension": ".py",
   "mimetype": "text/x-python",
   "name": "python",
   "nbconvert_exporter": "python",
   "pygments_lexer": "ipython3",
   "version": "3.5.1"
  }
 },
 "nbformat": 4,
 "nbformat_minor": 0
}

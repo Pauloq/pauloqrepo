{
 "cells": [
  {
   "cell_type": "code",
   "execution_count": null,
   "metadata": {
    "collapsed": false
   },
   "outputs": [],
   "source": [
    "print('oi')"
   ]
  },
  {
   "cell_type": "code",
   "execution_count": null,
   "metadata": {
    "collapsed": true
   },
   "outputs": [],
   "source": [
    "file = open('teste3.cnv', 'r')"
   ]
  },
  {
   "cell_type": "code",
   "execution_count": null,
   "metadata": {
    "collapsed": true
   },
   "outputs": [],
   "source": [
    "a = file.readline()"
   ]
  },
  {
   "cell_type": "code",
   "execution_count": null,
   "metadata": {
    "collapsed": false
   },
   "outputs": [],
   "source": [
    "print(a)"
   ]
  },
  {
   "cell_type": "code",
   "execution_count": null,
   "metadata": {
    "collapsed": false
   },
   "outputs": [],
   "source": [
    "if a.startswith('* F'):\n",
    "    print('Yes')"
   ]
  },
  {
   "cell_type": "code",
   "execution_count": 9,
   "metadata": {
    "collapsed": false
   },
   "outputs": [],
   "source": [
    "\n",
    "fiss = open('semnemea.cnv', 'r', encoding = \"cp860\")\n",
    "results = []\n",
    "for i in fiss:\n",
    "    results.append(i)\n",
    "\n",
    "partenemea = open('NEMEA.txt', 'r')\n",
    "results2 = []\n",
    "for n in partenemea:\n",
    "    results2.append(n)\n",
    "    \n",
    "\n",
    "#Lat\n",
    "alat = results[14]\n",
    "blat = str(alat)\n",
    "clat = blat[4:15]\n",
    "clat\n",
    "\n",
    "alati = results2[0]\n",
    "blati = str(alati)\n",
    "clati = blati[0:17] + ' ' + clat\n",
    "clati\n",
    "\n",
    "partenemea = open('NEMEA.txt', 'r')\n",
    "results2 = []\n",
    "for n in partenemea:\n",
    "    results2.append(n)\n",
    "    \n",
    "#LAT\n",
    "alati = results2[0]\n",
    "blati = str(alati)\n",
    "clati = blati[0:17] + ' ' + clat\n",
    "clati\n",
    "\n",
    "#LON\n",
    "alon = results[15]\n",
    "blon = str(alon)\n",
    "clon = blon[4:16]\n",
    "clon\n",
    "\n",
    "aloni = results2[1]\n",
    "bloni = str(aloni)\n",
    "cloni = bloni[0:18] + ' ' + clon\n",
    "cloni\n",
    "\n",
    "#DATA\n",
    "import datetime\n",
    "\n",
    "adat = results[16]\n",
    "bdat = str(adat)\n",
    "cdat = bdat[5:15]\n",
    "\n",
    "ahor = results[16]\n",
    "bhor = str(ahor)\n",
    "chor = bhor[16:21]\n",
    "chor\n",
    "\n",
    "yearfirst = datetime.datetime.strptime(cdat, \"%d/%m/%Y\").strftime(\"%Y-%m-%d\")\n",
    "\n",
    "ina = yearfirst[0:4]\n",
    "inb = yearfirst[5:7]\n",
    "inc = yearfirst[8:10]\n",
    "\n",
    "yyyy = int(ina)\n",
    "mm = int(inb)\n",
    "d = int(inc)\n",
    "\n",
    "#print(yyyy, mm, d)\n",
    "#print(ina, inb, inc)\n",
    "\n",
    "month = datetime.date(yyyy, mm, d).strftime('%b')\n",
    "#month\n",
    "\n",
    "datared = (month + ' ' + inb + ' ' + ina + ' ' + chor + ':00')\n",
    "#datared\n",
    "\n",
    "#data redonda\n",
    "adati = results2[2]\n",
    "bdati = str(adati)\n",
    "cdati = bdati[0:19] + ' ' + datared\n",
    "cdati\n",
    "\n",
    "#ULTIMA LINHA\n",
    "ault = results[15]\n",
    "bult = str(ault)\n",
    "cult = bult[4:16]\n",
    "cult\n",
    "\n",
    "aulti = results2[1]\n",
    "bulti = str(aloni)\n",
    "culti = bulti[0:18] + ' ' + clon\n",
    "culti\n",
    "\n",
    "#ARQUIVO DE SAIDA\n",
    "import sys\n",
    "sys.stdout = open(\"baby.cnv\",\"w\")\n",
    "ss = 'AIAIAIAIIAIAIAI'\n",
    "file = open('semnemea.cnv', 'r', encoding = \"cp860\")\n",
    "for line in range(700):\n",
    "    cc = file.readline()\n",
    "    ccc = cc.strip()\n",
    "    print(ccc)\n",
    "    if ccc.startswith('* System UpLoad Time'):\n",
    "        print(clati)\n",
    "        print(cloni)\n",
    "        print(cdati)\n",
    "        print(culti)\n"
   ]
  },
  {
   "cell_type": "code",
   "execution_count": null,
   "metadata": {
    "collapsed": false
   },
   "outputs": [],
   "source": [
    "\n",
    "fiss = open('semnemea.cnv', 'r', encoding = \"cp860\")\n",
    "results = []\n",
    "for i in fiss:\n",
    "    results.append(i)"
   ]
  },
  {
   "cell_type": "code",
   "execution_count": null,
   "metadata": {
    "collapsed": false
   },
   "outputs": [],
   "source": [
    "results[14]"
   ]
  },
  {
   "cell_type": "code",
   "execution_count": null,
   "metadata": {
    "collapsed": false
   },
   "outputs": [],
   "source": [
    "alat = results[14]\n",
    "blat = str(alat)\n",
    "clat = blat[4:15]\n",
    "clat"
   ]
  },
  {
   "cell_type": "code",
   "execution_count": null,
   "metadata": {
    "collapsed": false
   },
   "outputs": [],
   "source": [
    "partenemea = open('NEMEA.txt', 'r')\n",
    "results2 = []\n",
    "for n in partenemea:\n",
    "    results2.append(n)"
   ]
  },
  {
   "cell_type": "code",
   "execution_count": null,
   "metadata": {
    "collapsed": false
   },
   "outputs": [],
   "source": [
    "results2[2]"
   ]
  },
  {
   "cell_type": "code",
   "execution_count": null,
   "metadata": {
    "collapsed": false
   },
   "outputs": [],
   "source": [
    "alati = results2[0]\n",
    "blati = str(alati)\n",
    "clati = blati[0:17] + ' ' + clat\n",
    "clati"
   ]
  },
  {
   "cell_type": "code",
   "execution_count": null,
   "metadata": {
    "collapsed": false
   },
   "outputs": [],
   "source": [
    "alon = results[15]\n",
    "blon = str(alon)\n",
    "clon = blon[4:16]\n",
    "clon"
   ]
  },
  {
   "cell_type": "code",
   "execution_count": null,
   "metadata": {
    "collapsed": false
   },
   "outputs": [],
   "source": [
    "aloni = results2[1]\n",
    "bloni = str(aloni)\n",
    "cloni = bloni[0:18] + ' ' + clon\n",
    "cloni"
   ]
  },
  {
   "cell_type": "code",
   "execution_count": null,
   "metadata": {
    "collapsed": false
   },
   "outputs": [],
   "source": [
    "results[16]"
   ]
  },
  {
   "cell_type": "code",
   "execution_count": null,
   "metadata": {
    "collapsed": false
   },
   "outputs": [],
   "source": [
    "\n",
    "adat = results[16]\n",
    "bdat = str(adat)\n",
    "cdat = bdat[5:15]\n",
    "#cdat\n",
    "\n",
    "\n",
    "\n",
    "ahor = results[16]\n",
    "bhor = str(ahor)\n",
    "chor = bhor[16:21]\n",
    "chor"
   ]
  },
  {
   "cell_type": "code",
   "execution_count": null,
   "metadata": {
    "collapsed": false
   },
   "outputs": [],
   "source": []
  },
  {
   "cell_type": "code",
   "execution_count": null,
   "metadata": {
    "collapsed": false
   },
   "outputs": [],
   "source": [
    "adati = results2[2]\n",
    "bdati = str(adati)\n",
    "cdati = bdati[0:19] + ' ' + datared\n",
    "cdati"
   ]
  },
  {
   "cell_type": "code",
   "execution_count": null,
   "metadata": {
    "collapsed": false
   },
   "outputs": [],
   "source": [
    "import datetime\n",
    "yearfirst = datetime.datetime.strptime(cdat, \"%d/%m/%Y\").strftime(\"%Y-%m-%d\")\n",
    "\n",
    "ina = yearfirst[0:4]\n",
    "inb = yearfirst[5:7]\n",
    "inc = yearfirst[8:10]\n",
    "\n",
    "yyyy = int(ina)\n",
    "mm = int(inb)\n",
    "d = int(inc)\n",
    "\n",
    "#print(yyyy, mm, d)\n",
    "#print(ina, inb, inc)\n",
    "\n",
    "month = datetime.date(yyyy, mm, d).strftime('%b')\n",
    "#month\n",
    "\n",
    "datared = (month + ' ' + inb + ' ' + ina + ' ' + chor + ':00')\n",
    "#datared\n",
    "\n",
    "#data redonda\n",
    "adati = results2[2]\n",
    "bdati = str(adati)\n",
    "cdati = bdati[0:19] + ' ' + datared\n",
    "cdati\n",
    "\n",
    "\n"
   ]
  },
  {
   "cell_type": "code",
   "execution_count": null,
   "metadata": {
    "collapsed": true
   },
   "outputs": [],
   "source": []
  }
 ],
 "metadata": {
  "kernelspec": {
   "display_name": "Python 3",
   "language": "python",
   "name": "python3"
  },
  "language_info": {
   "codemirror_mode": {
    "name": "ipython",
    "version": 3
   },
   "file_extension": ".py",
   "mimetype": "text/x-python",
   "name": "python",
   "nbconvert_exporter": "python",
   "pygments_lexer": "ipython3",
   "version": "3.5.1"
  }
 },
 "nbformat": 4,
 "nbformat_minor": 0
}

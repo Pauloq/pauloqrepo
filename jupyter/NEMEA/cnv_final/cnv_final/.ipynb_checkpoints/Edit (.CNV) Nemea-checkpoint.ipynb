{
 "cells": [
  {
   "cell_type": "code",
   "execution_count": 113,
   "metadata": {
    "collapsed": false
   },
   "outputs": [],
   "source": [
    "import sys \n",
    "import glob\n",
    "import numpy as np\n"
   ]
  },
  {
   "cell_type": "code",
   "execution_count": 114,
   "metadata": {
    "collapsed": false
   },
   "outputs": [
    {
     "data": {
      "text/plain": [
       "20"
      ]
     },
     "execution_count": 114,
     "metadata": {},
     "output_type": "execute_result"
    }
   ],
   "source": [
    "dados=glob.glob('*.cnv')\n",
    "len(dados)"
   ]
  },
  {
   "cell_type": "code",
   "execution_count": 115,
   "metadata": {
    "collapsed": false
   },
   "outputs": [],
   "source": [
    "def ler_arq(nome_arq):\n",
    "    #Iniciando as variaveis básicas\n",
    "    vetor_dados = []\n",
    "    cont = 0\n",
    "    aux  = 0\n",
    "    aux1  = 0\n",
    "    arq_lido = open(nome_arq)\n",
    "    nemea = [['NMEA Latitude ='],['NMEA Longitude ='],['NMEA UTC (Time) ']]\n",
    "    nemea2 = [[],[],[]]\n",
    "    for i in arq_lido:\n",
    "        vetor_dados.append([])\n",
    "        vetor_dados[cont].append(i)\n",
    "        cont += 1\n",
    "    for e in vetor_dados:\n",
    "        v ='* System UpLoad'\n",
    "        if e[0].find(v) == 0:\n",
    "            v1 = '='\n",
    "            nemea2[2].append('* ' +nemea[2][0] + e[0][e[0].find(v1):len(e[0])])\n",
    "        if e[0][0] == '*'  and e[0][1] == '*':\n",
    "            if e[0][len(e[0])-2] == 'S' or e[0][len(e[0])-2] == 'W':\n",
    "                nemea2[aux].append('* ' +  nemea[aux][0] + ' ' + e[0][4:len(e[0])])\n",
    "                aux += 1\n",
    "    for e in vetor_dados:\n",
    "        v ='* System UpLoad'\n",
    "        aux1 += 1\n",
    "        if e[0].find(v) == 0:\n",
    "            for a in nemea2:\n",
    "                vetor_dados.insert(aux1 ,a)\n",
    "    \n",
    "    f = open('out_'+nome_arq, 'x')\n",
    "    for lin in vetor_dados:\n",
    "        f.write(lin[0])\n",
    "    f.close()\n",
    "    \n",
    "    "
   ]
  },
  {
   "cell_type": "code",
   "execution_count": 116,
   "metadata": {
    "collapsed": false
   },
   "outputs": [],
   "source": [
    "for i in dados:\n",
    "    result  = ler_arq(i)"
   ]
  },
  {
   "cell_type": "code",
   "execution_count": null,
   "metadata": {
    "collapsed": true
   },
   "outputs": [],
   "source": []
  }
 ],
 "metadata": {
  "kernelspec": {
   "display_name": "Python 3",
   "language": "python",
   "name": "python3"
  },
  "language_info": {
   "codemirror_mode": {
    "name": "ipython",
    "version": 3
   },
   "file_extension": ".py",
   "mimetype": "text/x-python",
   "name": "python",
   "nbconvert_exporter": "python",
   "pygments_lexer": "ipython3",
   "version": "3.4.3"
  }
 },
 "nbformat": 4,
 "nbformat_minor": 0
}

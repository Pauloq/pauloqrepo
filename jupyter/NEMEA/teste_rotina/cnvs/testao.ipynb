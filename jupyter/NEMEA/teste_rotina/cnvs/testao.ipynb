{
 "cells": [
  {
   "cell_type": "code",
   "execution_count": 8,
   "metadata": {
    "collapsed": false
   },
   "outputs": [
    {
     "name": "stdout",
     "output_type": "stream",
     "text": [
      "Nome do arquivo:dMCTV012.cnv\n",
      "Contagem ate o primeiro numero da latitude:5\n"
     ]
    }
   ],
   "source": [
    "arquivo = input('Nome do arquivo:')\n",
    "arq = len(arquivo)\n",
    "arqsaida = str(arquivo)[0:arq - 4] + 'baby' + '.cnv'\n",
    "contador = input('Contagem ate o primeiro numero da latitude:')\n",
    "contint = int(contador)\n",
    "fiss = open(arquivo, 'r', encoding = \"cp860\")\n",
    "results = []\n",
    "for i in fiss:\n",
    "    results.append(i)\n",
    "\n",
    "partenemea = open('NEMEA.txt', 'r')\n",
    "results2 = []\n",
    "for n in partenemea:\n",
    "    results2.append(n)\n",
    "\n",
    "#LAT\n",
    "count = 0\n",
    "for k in results:\n",
    "    kk = k.strip()\n",
    "    count += 1\n",
    "    if kk.endswith(' S') or kk.endswith('s'):\n",
    "        break\n",
    "    else:\n",
    "        continue\n",
    "\n",
    "alat = results[count-1]\n",
    "blat = str(alat)\n",
    "clat = blat[contint:contint + 11]\n",
    "\n",
    "\n",
    "alati = results2[0]\n",
    "blati = str(alati)\n",
    "clati = blati[0:17] + ' ' + clat\n",
    "\n",
    "\n",
    "\n",
    "#LON\n",
    "countlon = 0\n",
    "for k in results:\n",
    "    kk = k.strip()\n",
    "    countlon += 1\n",
    "    if kk.endswith(' W') or kk.endswith('w'):\n",
    "        break\n",
    "    else:\n",
    "        continue\n",
    "\n",
    "alon = results[countlon - 1]\n",
    "blon = str(alon)\n",
    "clon = blon[contint:contint + 11]\n",
    "\n",
    "\n",
    "aloni = results2[1]\n",
    "bloni = str(aloni)\n",
    "cloni = bloni[0:18] + ' ' + clon\n",
    "\n",
    "\n",
    "#DATA\n",
    "import datetime\n",
    "\n",
    "adat = results[16]\n",
    "bdat = str(adat)\n",
    "cdat = bdat[5:15]\n",
    "\n",
    "\n",
    "ahor = results[16]\n",
    "bhor = str(ahor)\n",
    "chor = bhor[16:21]\n",
    "\n",
    "\n",
    "yearfirst = datetime.datetime.strptime(cdat, \"%d/%m/%Y\").strftime(\"%Y-%m-%d\")\n",
    "\n",
    "ina = yearfirst[0:4]\n",
    "inb = yearfirst[5:7]\n",
    "inc = yearfirst[8:10]\n",
    "\n",
    "yyyy = int(ina)\n",
    "mm = int(inb)\n",
    "d = int(inc)\n",
    "\n",
    "#print(yyyy, mm, d)\n",
    "#print(ina, inb, inc)\n",
    "\n",
    "month = datetime.date(yyyy, mm, d).strftime('%b')\n",
    "#month\n",
    "\n",
    "datared = (month + ' ' + inb + ' ' + ina + ' ' + chor + ':00')\n",
    "#datared\n",
    "\n",
    "#data redonda\n",
    "adati = results2[2]\n",
    "bdati = str(adati)\n",
    "cdati = bdati[0:19] + ' ' + datared\n",
    "cdati\n",
    "\n",
    "#ULTIMA LINHA\n",
    "\n",
    "ull = ''\n",
    "aulti = results2[3]\n",
    "bulti = str(aulti)\n",
    "culti= bulti.strip()\n",
    "\n",
    "\n",
    "\n",
    "#ARQUIVO DE SAIDA\n",
    "import sys\n",
    "sys.stdout = open(arqsaida,\"w\")\n",
    "file = open(arquivo, 'r', encoding = \"cp860\")\n",
    "for line in range(666):\n",
    "    cc = file.readline()\n",
    "    ccc = cc.strip()\n",
    "    print(ccc)\n",
    "    if ccc.startswith('* System UpLoad Time'):\n",
    "        print(clati)\n",
    "        print(cloni)        \n",
    "        print(cdati)\n",
    "        print(culti)\n",
    "       "
   ]
  },
  {
   "cell_type": "code",
   "execution_count": null,
   "metadata": {
    "collapsed": true
   },
   "outputs": [],
   "source": []
  },
  {
   "cell_type": "code",
   "execution_count": null,
   "metadata": {
    "collapsed": false
   },
   "outputs": [],
   "source": [
    "dMCTV004.cnv"
   ]
  },
  {
   "cell_type": "code",
   "execution_count": null,
   "metadata": {
    "collapsed": true
   },
   "outputs": [],
   "source": []
  }
 ],
 "metadata": {
  "kernelspec": {
   "display_name": "Python 3",
   "language": "python",
   "name": "python3"
  },
  "language_info": {
   "codemirror_mode": {
    "name": "ipython",
    "version": 3
   },
   "file_extension": ".py",
   "mimetype": "text/x-python",
   "name": "python",
   "nbconvert_exporter": "python",
   "pygments_lexer": "ipython3",
   "version": "3.5.1"
  }
 },
 "nbformat": 4,
 "nbformat_minor": 0
}

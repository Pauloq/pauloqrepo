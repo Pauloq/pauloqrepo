{
 "cells": [
  {
   "cell_type": "code",
   "execution_count": 1,
   "metadata": {
    "collapsed": true
   },
   "outputs": [],
   "source": [
    "from pandas import DataFrame, read_csv\n",
    "import matplotlib.pyplot as plt\n",
    "import pandas as pd\n",
    "import matplotlib\n",
    "%matplotlib inline"
   ]
  },
  {
   "cell_type": "code",
   "execution_count": 12,
   "metadata": {
    "collapsed": false
   },
   "outputs": [],
   "source": [
    "Local = r'C:\\Users\\Apaluz\\programacao\\dados_brutos\\alturas_mare2.csv'\n",
    "#df = pd.read_csv(Local, header = None)\n",
    "df = pd.read_csv(Local, names = ['Data','H1','A1', 'H2', 'A2', 'H3', 'A3','H4', 'A4', 'H5', 'A5', 'H6', 'A6', 'H7', 'A7', 'H8', 'A8'])"
   ]
  },
  {
   "cell_type": "code",
   "execution_count": 14,
   "metadata": {
    "collapsed": false
   },
   "outputs": [
    {
     "data": {
      "text/plain": [
       "0      01:13\n",
       "1      01:43\n",
       "2      02:00\n",
       "3      00:53\n",
       "4      06:56\n",
       "5      00:21\n",
       "6      01:13\n",
       "7      01:56\n",
       "8      02:34\n",
       "9      03:08\n",
       "10     03:45\n",
       "11     04:11\n",
       "12     00:32\n",
       "13     01:26\n",
       "14     02:28\n",
       "15     00:23\n",
       "16     01:13\n",
       "17     02:02\n",
       "18     00:09\n",
       "19     01:15\n",
       "20     00:13\n",
       "21     01:09\n",
       "22     02:00\n",
       "23     02:45\n",
       "24     03:21\n",
       "25     04:00\n",
       "26     00:23\n",
       "27     01:02\n",
       "28     01:53\n",
       "29     01:02\n",
       "       ...  \n",
       "336    04:23\n",
       "337    00:13\n",
       "338    01:19\n",
       "339    02:26\n",
       "340    00:17\n",
       "341    00:53\n",
       "342    01:24\n",
       "343    02:00\n",
       "344    00:23\n",
       "345    00:36\n",
       "346    01:11\n",
       "347    01:53\n",
       "348    02:28\n",
       "349    03:09\n",
       "350    03:58\n",
       "351    00:45\n",
       "352    01:38\n",
       "353    00:02\n",
       "354    00:58\n",
       "355    01:43\n",
       "356    02:08\n",
       "357    00:38\n",
       "358    06:47\n",
       "359    07:32\n",
       "360    00:51\n",
       "361    01:32\n",
       "362    02:08\n",
       "363    02:51\n",
       "364    03:26\n",
       "365    04:06\n",
       "Name: H1, dtype: object"
      ]
     },
     "execution_count": 14,
     "metadata": {},
     "output_type": "execute_result"
    }
   ],
   "source": [
    "df.H1"
   ]
  },
  {
   "cell_type": "code",
   "execution_count": null,
   "metadata": {
    "collapsed": true
   },
   "outputs": [],
   "source": []
  }
 ],
 "metadata": {
  "kernelspec": {
   "display_name": "Python 3",
   "language": "python",
   "name": "python3"
  },
  "language_info": {
   "codemirror_mode": {
    "name": "ipython",
    "version": 3
   },
   "file_extension": ".py",
   "mimetype": "text/x-python",
   "name": "python",
   "nbconvert_exporter": "python",
   "pygments_lexer": "ipython3",
   "version": "3.5.1"
  }
 },
 "nbformat": 4,
 "nbformat_minor": 0
}

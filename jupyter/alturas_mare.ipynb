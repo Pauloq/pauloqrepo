{
 "cells": [
  {
   "cell_type": "code",
   "execution_count": 1,
   "metadata": {
    "collapsed": true
   },
   "outputs": [],
   "source": [
    "from pandas import DataFrame, read_csv\n",
    "import matplotlib.pyplot as plt\n",
    "import pandas as pd\n",
    "import matplotlib\n",
    "#%matplotlib inline"
   ]
  },
  {
   "cell_type": "code",
   "execution_count": 2,
   "metadata": {
    "collapsed": false
   },
   "outputs": [],
   "source": [
    "Local = r'/home/pauloque/programacao/pauloqrepo/dados_brutos/alturas_mare2.csv'\n",
    "#df = pd.read_csv(Local, header = None)\n",
    "df = pd.read_csv(Local, names = ['Data','H1','A1', 'H2', 'A2', 'H3', 'A3','H4', 'A4', 'H5', 'A5', 'H6', 'A6', 'H7', 'A7', 'H8', 'A8'])"
   ]
  },
  {
   "cell_type": "code",
   "execution_count": 4,
   "metadata": {
    "collapsed": false,
    "scrolled": true
   },
   "outputs": [
    {
     "data": {
      "text/html": [
       "<div>\n",
       "<table border=\"1\" class=\"dataframe\">\n",
       "  <thead>\n",
       "    <tr style=\"text-align: right;\">\n",
       "      <th></th>\n",
       "      <th>Data</th>\n",
       "      <th>H1</th>\n",
       "      <th>A1</th>\n",
       "      <th>H2</th>\n",
       "      <th>A2</th>\n",
       "      <th>H3</th>\n",
       "      <th>A3</th>\n",
       "      <th>H4</th>\n",
       "      <th>A4</th>\n",
       "      <th>H5</th>\n",
       "      <th>A5</th>\n",
       "      <th>H6</th>\n",
       "      <th>A6</th>\n",
       "      <th>H7</th>\n",
       "      <th>A7</th>\n",
       "      <th>H8</th>\n",
       "      <th>A8</th>\n",
       "    </tr>\n",
       "  </thead>\n",
       "  <tbody>\n",
       "    <tr>\n",
       "      <th>0</th>\n",
       "      <td>01/01/2016</td>\n",
       "      <td>01:13</td>\n",
       "      <td>0.7</td>\n",
       "      <td>03:39</td>\n",
       "      <td>0.5</td>\n",
       "      <td>07:17</td>\n",
       "      <td>1.3</td>\n",
       "      <td>10:56</td>\n",
       "      <td>0.6</td>\n",
       "      <td>13:21</td>\n",
       "      <td>0.8</td>\n",
       "      <td>15:54</td>\n",
       "      <td>0.6</td>\n",
       "      <td>19:36</td>\n",
       "      <td>1.3</td>\n",
       "      <td>23:13</td>\n",
       "      <td>0.6</td>\n",
       "    </tr>\n",
       "    <tr>\n",
       "      <th>1</th>\n",
       "      <td>02/01/2016</td>\n",
       "      <td>01:43</td>\n",
       "      <td>0.8</td>\n",
       "      <td>04:26</td>\n",
       "      <td>0.5</td>\n",
       "      <td>08:08</td>\n",
       "      <td>1.2</td>\n",
       "      <td>11:30</td>\n",
       "      <td>0.7</td>\n",
       "      <td>13:47</td>\n",
       "      <td>0.8</td>\n",
       "      <td>16:43</td>\n",
       "      <td>0.6</td>\n",
       "      <td>20:26</td>\n",
       "      <td>1.2</td>\n",
       "      <td>23:58</td>\n",
       "      <td>0.7</td>\n",
       "    </tr>\n",
       "    <tr>\n",
       "      <th>2</th>\n",
       "      <td>03/01/2016</td>\n",
       "      <td>02:00</td>\n",
       "      <td>0.8</td>\n",
       "      <td>05:11</td>\n",
       "      <td>0.5</td>\n",
       "      <td>09:04</td>\n",
       "      <td>1.1</td>\n",
       "      <td>12:13</td>\n",
       "      <td>0.8</td>\n",
       "      <td>13:56</td>\n",
       "      <td>0.9</td>\n",
       "      <td>17:24</td>\n",
       "      <td>0.5</td>\n",
       "      <td>21:28</td>\n",
       "      <td>1.2</td>\n",
       "      <td>NaN</td>\n",
       "      <td>NaN</td>\n",
       "    </tr>\n",
       "    <tr>\n",
       "      <th>3</th>\n",
       "      <td>04/01/2016</td>\n",
       "      <td>00:53</td>\n",
       "      <td>0.9</td>\n",
       "      <td>02:06</td>\n",
       "      <td>0.9</td>\n",
       "      <td>06:02</td>\n",
       "      <td>0.5</td>\n",
       "      <td>10:13</td>\n",
       "      <td>1.1</td>\n",
       "      <td>18:09</td>\n",
       "      <td>0.4</td>\n",
       "      <td>22:53</td>\n",
       "      <td>1.2</td>\n",
       "      <td>NaN</td>\n",
       "      <td>NaN</td>\n",
       "      <td>NaN</td>\n",
       "      <td>NaN</td>\n",
       "    </tr>\n",
       "    <tr>\n",
       "      <th>4</th>\n",
       "      <td>05/01/2016</td>\n",
       "      <td>06:56</td>\n",
       "      <td>0.4</td>\n",
       "      <td>11:49</td>\n",
       "      <td>1.1</td>\n",
       "      <td>18:58</td>\n",
       "      <td>0.3</td>\n",
       "      <td>NaN</td>\n",
       "      <td>NaN</td>\n",
       "      <td>NaN</td>\n",
       "      <td>NaN</td>\n",
       "      <td>NaN</td>\n",
       "      <td>NaN</td>\n",
       "      <td>NaN</td>\n",
       "      <td>NaN</td>\n",
       "      <td>NaN</td>\n",
       "      <td>NaN</td>\n",
       "    </tr>\n",
       "  </tbody>\n",
       "</table>\n",
       "</div>"
      ],
      "text/plain": [
       "         Data     H1   A1     H2   A2     H3   A3     H4   A4     H5   A5  \\\n",
       "0  01/01/2016  01:13  0.7  03:39  0.5  07:17  1.3  10:56  0.6  13:21  0.8   \n",
       "1  02/01/2016  01:43  0.8  04:26  0.5  08:08  1.2  11:30  0.7  13:47  0.8   \n",
       "2  03/01/2016  02:00  0.8  05:11  0.5  09:04  1.1  12:13  0.8  13:56  0.9   \n",
       "3  04/01/2016  00:53  0.9  02:06  0.9  06:02  0.5  10:13  1.1  18:09  0.4   \n",
       "4  05/01/2016  06:56  0.4  11:49  1.1  18:58  0.3    NaN  NaN    NaN  NaN   \n",
       "\n",
       "      H6   A6     H7   A7     H8   A8  \n",
       "0  15:54  0.6  19:36  1.3  23:13  0.6  \n",
       "1  16:43  0.6  20:26  1.2  23:58  0.7  \n",
       "2  17:24  0.5  21:28  1.2    NaN  NaN  \n",
       "3  22:53  1.2    NaN  NaN    NaN  NaN  \n",
       "4    NaN  NaN    NaN  NaN    NaN  NaN  "
      ]
     },
     "execution_count": 4,
     "metadata": {},
     "output_type": "execute_result"
    }
   ],
   "source": [
    "df.head()"
   ]
  },
  {
   "cell_type": "code",
   "execution_count": 5,
   "metadata": {
    "collapsed": false
   },
   "outputs": [],
   "source": [
    "####df.to_excel('teste_excel_expo.xlsx', index = False)"
   ]
  },
  {
   "cell_type": "code",
   "execution_count": 14,
   "metadata": {
    "collapsed": false,
    "scrolled": true
   },
   "outputs": [],
   "source": [
    "####loca = r'C:\\Users\\Apaluz\\programacao\\pauloqrepo\\dados_brutos\\alturas_mare_excel.xlsx'\n",
    "####df1 = pd.read_excel(loca)"
   ]
  },
  {
   "cell_type": "code",
   "execution_count": 7,
   "metadata": {
    "collapsed": false
   },
   "outputs": [],
   "source": [
    "#for i in df:\n",
    "    #?print(i)"
   ]
  },
  {
   "cell_type": "code",
   "execution_count": 8,
   "metadata": {
    "collapsed": false
   },
   "outputs": [],
   "source": [
    "#for i in df:\n",
    " #   if i == 'A1':\n",
    "  #      print(df[i])"
   ]
  },
  {
   "cell_type": "code",
   "execution_count": 9,
   "metadata": {
    "collapsed": false
   },
   "outputs": [
    {
     "ename": "TypeError",
     "evalue": "ufunc 'add' did not contain a loop with signature matching types dtype('<U32') dtype('<U32') dtype('<U32')",
     "output_type": "error",
     "traceback": [
      "\u001b[1;31m---------------------------------------------------------------------------\u001b[0m",
      "\u001b[1;31mTypeError\u001b[0m                                 Traceback (most recent call last)",
      "\u001b[1;32m<ipython-input-9-b7d0a2a89462>\u001b[0m in \u001b[0;36m<module>\u001b[1;34m()\u001b[0m\n\u001b[1;32m----> 1\u001b[1;33m \u001b[0mtest\u001b[0m \u001b[1;33m=\u001b[0m \u001b[0mdf\u001b[0m\u001b[1;33m[\u001b[0m\u001b[1;34m'Data'\u001b[0m\u001b[1;33m]\u001b[0m\u001b[1;33m[\u001b[0m\u001b[1;36m0\u001b[0m\u001b[1;33m]\u001b[0m \u001b[1;33m+\u001b[0m \u001b[0mdf\u001b[0m\u001b[1;33m[\u001b[0m\u001b[1;34m'A1'\u001b[0m\u001b[1;33m]\u001b[0m\u001b[1;33m[\u001b[0m\u001b[1;36m0\u001b[0m\u001b[1;33m]\u001b[0m\u001b[1;33m\u001b[0m\u001b[0m\n\u001b[0m",
      "\u001b[1;31mTypeError\u001b[0m: ufunc 'add' did not contain a loop with signature matching types dtype('<U32') dtype('<U32') dtype('<U32')"
     ]
    }
   ],
   "source": [
    "test = df['Data'][0] + df['A1'][0] "
   ]
  },
  {
   "cell_type": "code",
   "execution_count": null,
   "metadata": {
    "collapsed": true
   },
   "outputs": [],
   "source": []
  }
 ],
 "metadata": {
  "kernelspec": {
   "display_name": "Python 3",
   "language": "python",
   "name": "python3"
  },
  "language_info": {
   "codemirror_mode": {
    "name": "ipython",
    "version": 3
   },
   "file_extension": ".py",
   "mimetype": "text/x-python",
   "name": "python",
   "nbconvert_exporter": "python",
   "pygments_lexer": "ipython3",
   "version": "3.5.1"
  }
 },
 "nbformat": 4,
 "nbformat_minor": 0
}

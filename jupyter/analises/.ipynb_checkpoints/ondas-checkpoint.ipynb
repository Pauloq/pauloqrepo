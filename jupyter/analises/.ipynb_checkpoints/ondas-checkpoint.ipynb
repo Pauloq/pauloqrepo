{
 "cells": [
  {
   "cell_type": "code",
   "execution_count": 18,
   "metadata": {
    "collapsed": false
   },
   "outputs": [],
   "source": [
    "import numpy as np\n",
    "import scipy.stats as spst\n",
    "import scipy.optimize as spop\n",
    "import scipy.interpolate as spint\n",
    "import pandas as pd\n",
    "import matplotlib.pyplot as plt\n",
    "from sklearn.linear_model import LinearRegression\n",
    "from sklearn import datasets, linear_model\n",
    "from scipy import stats\n",
    "import textwrap\n",
    "from scipy.interpolate import interp1d\n",
    "import os\n"
   ]
  },
  {
   "cell_type": "code",
   "execution_count": null,
   "metadata": {
    "collapsed": false
   },
   "outputs": [],
   "source": [
    "#### Grafico simples ####\n",
    "\n",
    "fs = 100 # sample rate \n",
    "f = 4 # the frequency of the signal\n",
    "\n",
    "x = np.arange(fs) # the points on the x axis for plotting\n",
    "# compute the value (amplitude) of the sin wave at the for each sample\n",
    "y = [ np.sin(2*np.pi*f * (i/fs) + i) for i in np.arange(fs)]\n",
    "\n",
    "\n",
    "# showing the exact location of the smaples\n",
    "#plt.stem(x,y, 'r', )\n",
    "plt.plot(x,y)\n",
    "plt.show()\n",
    "#plt.savefig(r'/home/pauloque/programacao/pauloqrepo/jupyter/analises/ima', dpi = 50)"
   ]
  },
  {
   "cell_type": "code",
   "execution_count": null,
   "metadata": {
    "collapsed": false
   },
   "outputs": [],
   "source": []
  },
  {
   "cell_type": "code",
   "execution_count": 13,
   "metadata": {
    "collapsed": false
   },
   "outputs": [],
   "source": [
    "#### Graficos multiplos ####\n",
    "\n",
    "fs = 50 # sample rate \n",
    "f = 1 # the frequency of the signal\n",
    "\n",
    "x = np.arange(fs) # the points on the x axis for plotting\n",
    "# compute the value (amplitude) of the sin wave at the for each sample\n",
    "for b in np.arange(0,6.5,0.5):\n",
    "    y = [np.sin(2*np.pi*f * (i/fs) + b) for i in np.arange(fs)]\n",
    "    plt.plot(x,y)\n",
    "    plt.stem(x,y, 'r', )\n",
    "    plt.savefig(r'/home/pauloque/programacao/pauloqrepo/jupyter/analises/imagens/imagen' +str(b)+ '.png', dpi = 50)\n",
    "    plt.close()\n",
    "\n",
    "\n",
    "# showing the exact location of the smaples\n",
    "#plt.stem(x,y, 'r', )\n",
    "#plt.plot(x,y)\n",
    "#plt.show()\n",
    "#for a in range(5):\n",
    " #   plt.savefig(r'/home/pauloque/programacao/pauloqrepo/jupyter/analises/imagens/imagen' + str(a) , dpi = 50)"
   ]
  },
  {
   "cell_type": "code",
   "execution_count": null,
   "metadata": {
    "collapsed": false
   },
   "outputs": [],
   "source": [
    "np.arange?"
   ]
  },
  {
   "cell_type": "code",
   "execution_count": null,
   "metadata": {
    "collapsed": false
   },
   "outputs": [],
   "source": []
  },
  {
   "cell_type": "code",
   "execution_count": 19,
   "metadata": {
    "collapsed": true
   },
   "outputs": [],
   "source": [
    "### criando GIFs com o Terminal: $ convert -delay 10 -loop 0 *.png ondas.gif"
   ]
  },
  {
   "cell_type": "code",
   "execution_count": 34,
   "metadata": {
    "collapsed": false
   },
   "outputs": [],
   "source": [
    "x = range(100)\n",
    "y = []\n",
    "for i in range(100):\n",
    "    w = np.sin(2*np.pi*1 * )\n",
    "    y.append(w)\n",
    "\n",
    "plt.plot(x, y)\n",
    "plt.show()\n",
    "\n",
    "#plt.savefig(r'/home/pauloque/programacao/pauloqrepo/jupyter/analises/imagens2/imagen' + str(a) , dpi = 50)"
   ]
  },
  {
   "cell_type": "code",
   "execution_count": null,
   "metadata": {
    "collapsed": true
   },
   "outputs": [],
   "source": []
  }
 ],
 "metadata": {
  "kernelspec": {
   "display_name": "Python 3",
   "language": "python",
   "name": "python3"
  },
  "language_info": {
   "codemirror_mode": {
    "name": "ipython",
    "version": 3
   },
   "file_extension": ".py",
   "mimetype": "text/x-python",
   "name": "python",
   "nbconvert_exporter": "python",
   "pygments_lexer": "ipython3",
   "version": "3.5.1"
  }
 },
 "nbformat": 4,
 "nbformat_minor": 0
}

{
 "cells": [
  {
   "cell_type": "code",
   "execution_count": 1,
   "metadata": {
    "collapsed": true
   },
   "outputs": [],
   "source": [
    "import numpy as np\n",
    "import scipy.stats as spst\n",
    "import scipy.optimize as spop\n",
    "import scipy.interpolate as spint\n",
    "import pandas as pd\n",
    "import matplotlib.pyplot as plt\n",
    "from sklearn.linear_model import LinearRegression\n",
    "from sklearn import datasets, linear_model\n",
    "from scipy import stats\n",
    "import textwrap\n",
    "from scipy.interpolate import interp1d\n"
   ]
  },
  {
   "cell_type": "markdown",
   "metadata": {},
   "source": [
    "#  Pefil CTD1 (XBT)"
   ]
  },
  {
   "cell_type": "code",
   "execution_count": 125,
   "metadata": {
    "collapsed": false
   },
   "outputs": [
    {
     "name": "stdout",
     "output_type": "stream",
     "text": [
      "Nome da Estacao:MCT030\n",
      "Numero da Estacao:30\n"
     ]
    },
    {
     "data": {
      "text/html": [
       "<div>\n",
       "<table border=\"1\" class=\"dataframe\">\n",
       "  <thead>\n",
       "    <tr style=\"text-align: right;\">\n",
       "      <th></th>\n",
       "      <th>prof_xbt</th>\n",
       "      <th>temp_xbt</th>\n",
       "    </tr>\n",
       "  </thead>\n",
       "  <tbody>\n",
       "    <tr>\n",
       "      <th>0</th>\n",
       "      <td>4.917</td>\n",
       "      <td>14.4570</td>\n",
       "    </tr>\n",
       "    <tr>\n",
       "      <th>1</th>\n",
       "      <td>5.919</td>\n",
       "      <td>14.4613</td>\n",
       "    </tr>\n",
       "    <tr>\n",
       "      <th>2</th>\n",
       "      <td>6.968</td>\n",
       "      <td>14.4902</td>\n",
       "    </tr>\n",
       "    <tr>\n",
       "      <th>3</th>\n",
       "      <td>7.974</td>\n",
       "      <td>14.5423</td>\n",
       "    </tr>\n",
       "    <tr>\n",
       "      <th>4</th>\n",
       "      <td>8.959</td>\n",
       "      <td>14.5630</td>\n",
       "    </tr>\n",
       "  </tbody>\n",
       "</table>\n",
       "</div>"
      ],
      "text/plain": [
       "   prof_xbt  temp_xbt\n",
       "0     4.917   14.4570\n",
       "1     5.919   14.4613\n",
       "2     6.968   14.4902\n",
       "3     7.974   14.5423\n",
       "4     8.959   14.5630"
      ]
     },
     "execution_count": 125,
     "metadata": {},
     "output_type": "execute_result"
    }
   ],
   "source": [
    "est = input('Nome da Estacao:')\n",
    "num = input('Numero da Estacao:')\n",
    "loc = r'C:\\Users\\Apaluz\\programacao\\pauloqrepo\\jupyter\\Analises\\CTDxCTD\\perfil_'+num+r'\\xbt_'+num+'.xlsx'\n",
    "df = pd.read_excel(loc)\n",
    "df.head(5)"
   ]
  },
  {
   "cell_type": "code",
   "execution_count": null,
   "metadata": {
    "collapsed": false
   },
   "outputs": [],
   "source": [
    "plt.figure(figsize=(6, 8))\n",
    "plt.plot(df['temp_xbt'],df['prof_xbt'], label='Dados observados')\n",
    "plt.title('Perfil XBT Estação'+' '+est, fontsize = 20)\n",
    "plt.xlabel('Temperatura[°C]', fontsize = 15)\n",
    "plt.ylabel('Profundidade', fontsize = 15)\n",
    "plt.ylim(600, 0)\n",
    "plt.legend(loc='lower left', shadow=True, fontsize='large')\n",
    "plt.show()\n",
    "#plt.savefig(r'C:\\Users\\Apaluz\\programacao\\pauloqrepo\\jupyter\\regressaolinear\\ANALISE\\perfil_'+num+r'\\xbt_'+num+'.png')"
   ]
  },
  {
   "cell_type": "markdown",
   "metadata": {},
   "source": [
    "# Perfil CTD2 (CTDMB) "
   ]
  },
  {
   "cell_type": "code",
   "execution_count": 126,
   "metadata": {
    "collapsed": false
   },
   "outputs": [
    {
     "data": {
      "text/html": [
       "<div>\n",
       "<table border=\"1\" class=\"dataframe\">\n",
       "  <thead>\n",
       "    <tr style=\"text-align: right;\">\n",
       "      <th></th>\n",
       "      <th>prof_ctd</th>\n",
       "      <th>temp_ctd</th>\n",
       "    </tr>\n",
       "  </thead>\n",
       "  <tbody>\n",
       "    <tr>\n",
       "      <th>0</th>\n",
       "      <td>3</td>\n",
       "      <td>14.4929</td>\n",
       "    </tr>\n",
       "    <tr>\n",
       "      <th>1</th>\n",
       "      <td>4</td>\n",
       "      <td>14.4927</td>\n",
       "    </tr>\n",
       "    <tr>\n",
       "      <th>2</th>\n",
       "      <td>5</td>\n",
       "      <td>14.4929</td>\n",
       "    </tr>\n",
       "    <tr>\n",
       "      <th>3</th>\n",
       "      <td>6</td>\n",
       "      <td>14.5058</td>\n",
       "    </tr>\n",
       "    <tr>\n",
       "      <th>4</th>\n",
       "      <td>7</td>\n",
       "      <td>14.5141</td>\n",
       "    </tr>\n",
       "  </tbody>\n",
       "</table>\n",
       "</div>"
      ],
      "text/plain": [
       "   prof_ctd  temp_ctd\n",
       "0         3   14.4929\n",
       "1         4   14.4927\n",
       "2         5   14.4929\n",
       "3         6   14.5058\n",
       "4         7   14.5141"
      ]
     },
     "execution_count": 126,
     "metadata": {},
     "output_type": "execute_result"
    }
   ],
   "source": [
    "local = r'C:\\Users\\Apaluz\\programacao\\pauloqrepo\\jupyter\\Analises\\CTDxCTD\\perfil_'+num+r'\\ctd_'+num+'.xlsx'\n",
    "df2 = pd.read_excel(local)\n",
    "df2.head(5)"
   ]
  },
  {
   "cell_type": "code",
   "execution_count": 5,
   "metadata": {
    "collapsed": false
   },
   "outputs": [],
   "source": [
    "plt.figure(figsize= (6,8))\n",
    "plt.plot(df2['temp_ctd'], df2['prof_ctd'], 'g',label='Dados observados')\n",
    "plt.title('Perfil CTD Estação'+' '+est, fontsize = 20)\n",
    "plt.xlabel('Temperatura [ITS-90, deg C]', fontsize = 15)\n",
    "plt.ylabel('Profundidade [salt water, m]', fontsize = 15)\n",
    "plt.ylim(600, 0)\n",
    "plt.legend(loc='lower left', shadow=True, fontsize='large')\n",
    "plt.show()"
   ]
  },
  {
   "cell_type": "markdown",
   "metadata": {},
   "source": [
    "# CTD x XBT"
   ]
  },
  {
   "cell_type": "code",
   "execution_count": 127,
   "metadata": {
    "collapsed": false
   },
   "outputs": [],
   "source": [
    "plt.figure(figsize=(6, 8))\n",
    "plt.plot(df['temp_xbt'],df['prof_xbt'], 'b', label=\"Perfil XBT\", linewidth=5)\n",
    "plt.plot(df2['temp_ctd'], df2['prof_ctd'], 'r', label=\"Perfil CTD\", linewidth=5)\n",
    "plt.ylim(600, 0)\n",
    "plt.xlim(0, 25)\n",
    "plt.title('Perfil XBT x CTD Estação'+' '+est, fontsize = 20)\n",
    "plt.xlabel('Temperatura[°C]', fontsize = 15)\n",
    "plt.ylabel('Profundidade[m]', fontsize = 15)\n",
    "plt.legend(loc='lower left', shadow=True, fontsize='large')\n",
    "plt.show()"
   ]
  },
  {
   "cell_type": "markdown",
   "metadata": {
    "collapsed": false
   },
   "source": [
    "# Interpolacao"
   ]
  },
  {
   "cell_type": "markdown",
   "metadata": {},
   "source": [
    "Primeiro tratar os dados para o comecar nas mesmas profundidades e terminar nas respectivas. (Evitar os NaN s) \n"
   ]
  },
  {
   "cell_type": "code",
   "execution_count": 128,
   "metadata": {
    "collapsed": false
   },
   "outputs": [
    {
     "data": {
      "text/html": [
       "<div>\n",
       "<table border=\"1\" class=\"dataframe\">\n",
       "  <thead>\n",
       "    <tr style=\"text-align: right;\">\n",
       "      <th></th>\n",
       "      <th>prof_xbt</th>\n",
       "      <th>temp_xbt</th>\n",
       "      <th>prof_ctd</th>\n",
       "      <th>temp_ctd</th>\n",
       "    </tr>\n",
       "  </thead>\n",
       "  <tbody>\n",
       "    <tr>\n",
       "      <th>0</th>\n",
       "      <td>4.917</td>\n",
       "      <td>14.4570</td>\n",
       "      <td>4</td>\n",
       "      <td>14.4927</td>\n",
       "    </tr>\n",
       "    <tr>\n",
       "      <th>1</th>\n",
       "      <td>5.919</td>\n",
       "      <td>14.4613</td>\n",
       "      <td>5</td>\n",
       "      <td>14.4929</td>\n",
       "    </tr>\n",
       "    <tr>\n",
       "      <th>2</th>\n",
       "      <td>6.968</td>\n",
       "      <td>14.4902</td>\n",
       "      <td>6</td>\n",
       "      <td>14.5058</td>\n",
       "    </tr>\n",
       "    <tr>\n",
       "      <th>3</th>\n",
       "      <td>7.974</td>\n",
       "      <td>14.5423</td>\n",
       "      <td>7</td>\n",
       "      <td>14.5141</td>\n",
       "    </tr>\n",
       "  </tbody>\n",
       "</table>\n",
       "</div>"
      ],
      "text/plain": [
       "   prof_xbt  temp_xbt  prof_ctd  temp_ctd\n",
       "0     4.917   14.4570         4   14.4927\n",
       "1     5.919   14.4613         5   14.4929\n",
       "2     6.968   14.4902         6   14.5058\n",
       "3     7.974   14.5423         7   14.5141"
      ]
     },
     "execution_count": 128,
     "metadata": {},
     "output_type": "execute_result"
    }
   ],
   "source": [
    "localint = r'C:\\Users\\Apaluz\\programacao\\pauloqrepo\\jupyter\\Analises\\CTDxCTD\\perfil_'+num+r'\\xbt_ctd_'+num+'.xlsx'\n",
    "dfint = pd.read_excel(localint)\n",
    "dfint.head(4)"
   ]
  },
  {
   "cell_type": "code",
   "execution_count": 129,
   "metadata": {
    "collapsed": false
   },
   "outputs": [],
   "source": [
    "dff = []\n",
    "for i in dfint['temp_ctd']:\n",
    "    dff.append(i)\n",
    "dff2 = []\n",
    "for i in dfint['prof_ctd']:\n",
    "    dff2.append(i)\n",
    "dfint3 = pd.DataFrame(data = dff2, columns = ['prof_ctd'])\n",
    "dfint3['temp_ctd'] = dff\n",
    "\n",
    "dfint33 = dfint3.dropna()\n",
    "\n",
    "#dfint33.to_excel(r'C:\\Users\\Apaluz\\programacao\\pauloqrepo\\jupyter\\regressaolinear\\ANALISE\\perfil_13\\ctd_sem_Nan.xlsx',index=False,header=False)"
   ]
  },
  {
   "cell_type": "code",
   "execution_count": 130,
   "metadata": {
    "collapsed": false
   },
   "outputs": [],
   "source": [
    "x = dfint['prof_xbt']\n",
    "y = dfint['temp_xbt']\n",
    "yi = dfint33['prof_ctd']\n",
    "xi = np.interp(yi, x, y)\n",
    "plt.figure()\n",
    "plt.plot(dfint33['temp_ctd'] , -dfint33['prof_ctd'] , '-ob', label = ' CTD')\n",
    "plt.plot(xi, -yi, '-or', label = 'XBT interpolado')\n",
    "plt.plot(dfint['temp_xbt'] , -dfint['prof_xbt'], '-og', label = ' XBT')\n",
    "plt.legend(loc='upper left', shadow=True, fontsize='large')\n",
    "#plt.ylim(600, 0)\n",
    "plt.show()"
   ]
  },
  {
   "cell_type": "code",
   "execution_count": 131,
   "metadata": {
    "collapsed": false
   },
   "outputs": [
    {
     "name": "stdout",
     "output_type": "stream",
     "text": [
      "xi = 58 ; x = 58 ; yi = 58 ; y = 58\n"
     ]
    }
   ],
   "source": [
    "a = len(xi)\n",
    "b = len(x)\n",
    "c = len(yi)\n",
    "d = len(y)\n",
    "if a < b:\n",
    "    print('CORRETO, CONTINUE!!!')\n",
    "print('xi =',a,'; x =',b,'; yi =', c,'; y =',d)"
   ]
  },
  {
   "cell_type": "code",
   "execution_count": 132,
   "metadata": {
    "collapsed": false
   },
   "outputs": [
    {
     "data": {
      "text/html": [
       "<div>\n",
       "<table border=\"1\" class=\"dataframe\">\n",
       "  <thead>\n",
       "    <tr style=\"text-align: right;\">\n",
       "      <th></th>\n",
       "      <th>xbt_inter</th>\n",
       "    </tr>\n",
       "  </thead>\n",
       "  <tbody>\n",
       "    <tr>\n",
       "      <th>0</th>\n",
       "      <td>14.457000</td>\n",
       "    </tr>\n",
       "    <tr>\n",
       "      <th>1</th>\n",
       "      <td>14.457356</td>\n",
       "    </tr>\n",
       "    <tr>\n",
       "      <th>2</th>\n",
       "      <td>14.463532</td>\n",
       "    </tr>\n",
       "    <tr>\n",
       "      <th>3</th>\n",
       "      <td>14.491857</td>\n",
       "    </tr>\n",
       "    <tr>\n",
       "      <th>4</th>\n",
       "      <td>14.542846</td>\n",
       "    </tr>\n",
       "  </tbody>\n",
       "</table>\n",
       "</div>"
      ],
      "text/plain": [
       "   xbt_inter\n",
       "0  14.457000\n",
       "1  14.457356\n",
       "2  14.463532\n",
       "3  14.491857\n",
       "4  14.542846"
      ]
     },
     "execution_count": 132,
     "metadata": {},
     "output_type": "execute_result"
    }
   ],
   "source": [
    "dfinterpolado = pd.DataFrame(data = xi, columns = ['xbt_inter'])\n",
    "dfinterpolado.head(5)"
   ]
  },
  {
   "cell_type": "markdown",
   "metadata": {},
   "source": [
    "# Regressao Linear"
   ]
  },
  {
   "cell_type": "markdown",
   "metadata": {
    "collapsed": true
   },
   "source": [
    "ctd = dfint33 e xbt interpolado = dfinterpolado"
   ]
  },
  {
   "cell_type": "code",
   "execution_count": 133,
   "metadata": {
    "collapsed": false
   },
   "outputs": [
    {
     "data": {
      "text/html": [
       "<div>\n",
       "<table border=\"1\" class=\"dataframe\">\n",
       "  <thead>\n",
       "    <tr style=\"text-align: right;\">\n",
       "      <th></th>\n",
       "      <th>xbt_inter</th>\n",
       "      <th>ctd</th>\n",
       "    </tr>\n",
       "  </thead>\n",
       "  <tbody>\n",
       "    <tr>\n",
       "      <th>0</th>\n",
       "      <td>14.457000</td>\n",
       "      <td>14.4927</td>\n",
       "    </tr>\n",
       "    <tr>\n",
       "      <th>1</th>\n",
       "      <td>14.457356</td>\n",
       "      <td>14.4929</td>\n",
       "    </tr>\n",
       "    <tr>\n",
       "      <th>2</th>\n",
       "      <td>14.463532</td>\n",
       "      <td>14.5058</td>\n",
       "    </tr>\n",
       "    <tr>\n",
       "      <th>3</th>\n",
       "      <td>14.491857</td>\n",
       "      <td>14.5141</td>\n",
       "    </tr>\n",
       "    <tr>\n",
       "      <th>4</th>\n",
       "      <td>14.542846</td>\n",
       "      <td>14.5214</td>\n",
       "    </tr>\n",
       "  </tbody>\n",
       "</table>\n",
       "</div>"
      ],
      "text/plain": [
       "   xbt_inter      ctd\n",
       "0  14.457000  14.4927\n",
       "1  14.457356  14.4929\n",
       "2  14.463532  14.5058\n",
       "3  14.491857  14.5141\n",
       "4  14.542846  14.5214"
      ]
     },
     "execution_count": 133,
     "metadata": {},
     "output_type": "execute_result"
    }
   ],
   "source": [
    "dfinterpolado['ctd'] = dfint33['temp_ctd']\n",
    "dfinterpolado.head(5)\n"
   ]
  },
  {
   "cell_type": "code",
   "execution_count": 134,
   "metadata": {
    "collapsed": false
   },
   "outputs": [
    {
     "data": {
      "text/html": [
       "<div>\n",
       "<table border=\"1\" class=\"dataframe\">\n",
       "  <thead>\n",
       "    <tr style=\"text-align: right;\">\n",
       "      <th></th>\n",
       "      <th>xbt_inter</th>\n",
       "      <th>ctd</th>\n",
       "    </tr>\n",
       "  </thead>\n",
       "  <tbody>\n",
       "    <tr>\n",
       "      <th>count</th>\n",
       "      <td>58.000000</td>\n",
       "      <td>58.000000</td>\n",
       "    </tr>\n",
       "    <tr>\n",
       "      <th>mean</th>\n",
       "      <td>14.943067</td>\n",
       "      <td>14.917272</td>\n",
       "    </tr>\n",
       "    <tr>\n",
       "      <th>std</th>\n",
       "      <td>0.213708</td>\n",
       "      <td>0.234249</td>\n",
       "    </tr>\n",
       "    <tr>\n",
       "      <th>min</th>\n",
       "      <td>14.457000</td>\n",
       "      <td>14.492700</td>\n",
       "    </tr>\n",
       "    <tr>\n",
       "      <th>25%</th>\n",
       "      <td>14.899318</td>\n",
       "      <td>14.670000</td>\n",
       "    </tr>\n",
       "    <tr>\n",
       "      <th>50%</th>\n",
       "      <td>15.035956</td>\n",
       "      <td>14.999600</td>\n",
       "    </tr>\n",
       "    <tr>\n",
       "      <th>75%</th>\n",
       "      <td>15.092360</td>\n",
       "      <td>15.100025</td>\n",
       "    </tr>\n",
       "    <tr>\n",
       "      <th>max</th>\n",
       "      <td>15.178383</td>\n",
       "      <td>15.177700</td>\n",
       "    </tr>\n",
       "  </tbody>\n",
       "</table>\n",
       "</div>"
      ],
      "text/plain": [
       "       xbt_inter        ctd\n",
       "count  58.000000  58.000000\n",
       "mean   14.943067  14.917272\n",
       "std     0.213708   0.234249\n",
       "min    14.457000  14.492700\n",
       "25%    14.899318  14.670000\n",
       "50%    15.035956  14.999600\n",
       "75%    15.092360  15.100025\n",
       "max    15.178383  15.177700"
      ]
     },
     "execution_count": 134,
     "metadata": {},
     "output_type": "execute_result"
    }
   ],
   "source": [
    "dfinterpolado.describe()"
   ]
  },
  {
   "cell_type": "code",
   "execution_count": 135,
   "metadata": {
    "collapsed": false
   },
   "outputs": [
    {
     "name": "stdout",
     "output_type": "stream",
     "text": [
      "y =  0.82902802x +  2.5762297\n"
     ]
    }
   ],
   "source": [
    "minixbt = dfinterpolado['xbt_inter'].min()\n",
    "minictd = dfinterpolado['ctd'].min()\n",
    "maxixbt = dfinterpolado['xbt_inter'].max()\n",
    "maxictd = dfinterpolado['ctd'].max()\n",
    "\n",
    "npMatrix = np.matrix(dfinterpolado)\n",
    "X, Y = npMatrix[:,1], npMatrix[:,0]\n",
    "mdl = LinearRegression().fit(X,Y) # either this or the next line\n",
    "#mdl = LinearRegression().fit(filtered_data[['x']],filtered_data.y)\n",
    "m = mdl.coef_[0]\n",
    "b = mdl.intercept_\n",
    "#print(\"formula: y = {0}x + {1}\".format(m, b)) # following slope intercept form \n",
    "stm = str(m)\n",
    "stb = str(b)\n",
    "form = (\"y = {0}x + {1}\".format(stm[1:len(stm)-1], stb[1:len(stb)-1]))\n",
    "print(form)"
   ]
  },
  {
   "cell_type": "code",
   "execution_count": 136,
   "metadata": {
    "collapsed": false
   },
   "outputs": [
    {
     "name": "stdout",
     "output_type": "stream",
     "text": [
      "0.825754318393\n"
     ]
    }
   ],
   "source": [
    "##Estatistica, regressao linear coeficientes\n",
    "x = dfinterpolado[\"ctd\"]\n",
    "y = dfinterpolado[\"xbt_inter\"]\n",
    "slope, intercept, r_value, p_value, std_err = stats.linregress(x,y)\n",
    "a = slope\n",
    "bb = intercept\n",
    "rr = r_value**2\n",
    "print(rr)"
   ]
  },
  {
   "cell_type": "code",
   "execution_count": 147,
   "metadata": {
    "collapsed": false
   },
   "outputs": [
    {
     "name": "stdout",
     "output_type": "stream",
     "text": [
      "Comparação dos valores de Temperatura\n",
      "CTD MB x CTD FURG Total\n"
     ]
    }
   ],
   "source": [
    "foorm = str(form) +' '+ 'R² ='+' '+ str(rr)\n",
    "lege = textwrap.fill(foorm,len(str(form)))\n",
    "palavra = 'Comparação dos valores de Temperatura CTD MB x CTD FURG' +' '+est \n",
    "legen = textwrap.fill(palavra,40)\n",
    "print(legen)\n",
    "\n",
    "plt.figure(figsize=(9, 10))\n",
    "plt.scatter(X,Y, color='r', s=50, label='Dados Observados')\n",
    "#plt.plot(X,Y,'og', s=4, label='Dados Observados')\n",
    "plt.plot([0,50],[b,m*50+b],'-b',linewidth=4, label=lege)\n",
    "plt.title(legen, fontsize = 20)\n",
    "plt.xlabel('CTD Observado', fontsize = 15)\n",
    "plt.ylabel('XBT Interpolado', fontsize = 15)\n",
    "plt.xlim(minixbt - 1,maxixbt + 1)\n",
    "plt.ylim(minictd - 1,maxictd + 1)\n",
    "plt.legend(loc='upper left', shadow=True, fontsize='large')\n",
    "plt.grid()\n",
    "plt.show()"
   ]
  },
  {
   "cell_type": "code",
   "execution_count": null,
   "metadata": {
    "collapsed": false
   },
   "outputs": [],
   "source": []
  },
  {
   "cell_type": "code",
   "execution_count": 138,
   "metadata": {
    "collapsed": false
   },
   "outputs": [],
   "source": [
    "dados = pd.DataFrame(data = X, columns= ['CTD_observado'])\n",
    "dados['XBT_interpolado'] = Y \n",
    "dados.to_excel(r'C:\\Users\\Apaluz\\programacao\\pauloqrepo\\jupyter\\Analises\\CTDxCTD\\perfil_'+ num +r'\\perfil_REGRE'+ num +'.xlsx',index=True,header=True)\n",
    "\n"
   ]
  },
  {
   "cell_type": "code",
   "execution_count": null,
   "metadata": {
    "collapsed": true
   },
   "outputs": [],
   "source": []
  },
  {
   "cell_type": "markdown",
   "metadata": {},
   "source": [
    "# Regressao e Perfis"
   ]
  },
  {
   "cell_type": "code",
   "execution_count": 29,
   "metadata": {
    "collapsed": false
   },
   "outputs": [
    {
     "name": "stdout",
     "output_type": "stream",
     "text": [
      "Perfil CTD MB x CTD FURG\n",
      "Estação MCT007\n"
     ]
    }
   ],
   "source": [
    "palavras = 'Perfil CTD MB x CTD FURG Estação'+' '+est\n",
    "legens = textwrap.fill(palavras,25)\n",
    "print(legens)"
   ]
  },
  {
   "cell_type": "code",
   "execution_count": 142,
   "metadata": {
    "collapsed": false
   },
   "outputs": [
    {
     "name": "stdout",
     "output_type": "stream",
     "text": [
      "Perfil CTD MB x CTD FURG\n",
      "Estação MCT030\n"
     ]
    }
   ],
   "source": [
    "palavras = 'Perfil CTD MB x CTD FURG Estação'+' '+est\n",
    "legens = textwrap.fill(palavras,25)\n",
    "print(legens)\n",
    "\n",
    "plt.figure(figsize=(6, 8))\n",
    "plt.plot(df['temp_xbt'],df['prof_xbt'], 'b', label=\"Perfil CTD FURG\", linewidth=5)\n",
    "plt.plot(df2['temp_ctd'], df2['prof_ctd'], 'r', label=\"Perfil CTD MB\", linewidth=5)\n",
    "plt.ylim(80, 0)\n",
    "plt.xlim(10, 20)\n",
    "plt.title(legens, fontsize = 20)\n",
    "plt.xlabel('Temperatura[°C]', fontsize = 15)\n",
    "plt.ylabel('Profundidade[m]', fontsize = 15)\n",
    "plt.legend(loc='lower left', shadow=True, fontsize='large')\n",
    "plt.grid()\n",
    "#plt.show()\n",
    "\n",
    "plt.figure(figsize=(9, 10))\n",
    "plt.scatter(X,Y, color='r', s=50, label='Dados Observados')\n",
    "#plt.plot(X,Y,'og', s=4, label='Dados Observados')\n",
    "plt.plot([0,50],[b,m*50+b],'-b',linewidth=4, label=lege)\n",
    "plt.title(legen, fontsize = 20)\n",
    "plt.xlabel('CTD MB', fontsize = 15)\n",
    "plt.ylabel('CTD FURG', fontsize = 15)\n",
    "plt.xlim(minixbt - 1,maxixbt + 1)\n",
    "plt.ylim(minictd - 1,maxictd + 1)\n",
    "plt.legend(loc='upper left', shadow=True, fontsize='large')\n",
    "plt.grid()\n",
    "plt.show()"
   ]
  },
  {
   "cell_type": "markdown",
   "metadata": {},
   "source": [
    "# REGRESSAO TOTAL"
   ]
  },
  {
   "cell_type": "code",
   "execution_count": 144,
   "metadata": {
    "collapsed": false
   },
   "outputs": [
    {
     "data": {
      "text/html": [
       "<div>\n",
       "<table border=\"1\" class=\"dataframe\">\n",
       "  <thead>\n",
       "    <tr style=\"text-align: right;\">\n",
       "      <th></th>\n",
       "      <th>CTD_observado</th>\n",
       "      <th>XBT_interpolado</th>\n",
       "    </tr>\n",
       "  </thead>\n",
       "  <tbody>\n",
       "    <tr>\n",
       "      <th>0</th>\n",
       "      <td>14.4927</td>\n",
       "      <td>14.457000</td>\n",
       "    </tr>\n",
       "    <tr>\n",
       "      <th>1</th>\n",
       "      <td>14.4929</td>\n",
       "      <td>14.457356</td>\n",
       "    </tr>\n",
       "    <tr>\n",
       "      <th>2</th>\n",
       "      <td>14.5058</td>\n",
       "      <td>14.463532</td>\n",
       "    </tr>\n",
       "    <tr>\n",
       "      <th>3</th>\n",
       "      <td>14.5141</td>\n",
       "      <td>14.491857</td>\n",
       "    </tr>\n",
       "  </tbody>\n",
       "</table>\n",
       "</div>"
      ],
      "text/plain": [
       "   CTD_observado  XBT_interpolado\n",
       "0        14.4927        14.457000\n",
       "1        14.4929        14.457356\n",
       "2        14.5058        14.463532\n",
       "3        14.5141        14.491857"
      ]
     },
     "execution_count": 144,
     "metadata": {},
     "output_type": "execute_result"
    }
   ],
   "source": [
    "#####regressao Total\n",
    "\n",
    "regtotal = pd.read_excel(r'C:\\Users\\Apaluz\\programacao\\pauloqrepo\\jupyter\\Analises\\CTDxCTD\\REGRE_TOTAL_CTD_CTD.xlsx')\n",
    "regtotal.head(4)"
   ]
  },
  {
   "cell_type": "code",
   "execution_count": 148,
   "metadata": {
    "collapsed": false
   },
   "outputs": [
    {
     "name": "stdout",
     "output_type": "stream",
     "text": [
      "y =  0.82902802x +  2.5762297\n",
      "0.996567832534\n"
     ]
    }
   ],
   "source": [
    "minixbt = regtotal['XBT_interpolado'].min()\n",
    "minictd = regtotal['CTD_observado'].min()\n",
    "maxixbt = regtotal['XBT_interpolado'].max()\n",
    "maxictd = regtotal['CTD_observado'].max()\n",
    "\n",
    "npMatrix = np.matrix(regtotal)\n",
    "XX, YY = npMatrix[:,1], npMatrix[:,0]\n",
    "mdl = LinearRegression().fit(X,Y) # either this or the next line\n",
    "#mdl = LinearRegression().fit(filtered_data[['x']],filtered_data.y)\n",
    "m = mdl.coef_[0]\n",
    "b = mdl.intercept_\n",
    "#print(\"formula: y = {0}x + {1}\".format(m, b)) # following slope intercept form \n",
    "stm = str(m)\n",
    "stb = str(b)\n",
    "form = (\"y = {0}x + {1}\".format(stm[1:len(stm)-1], stb[1:len(stb)-1]))\n",
    "print(form)\n",
    "\n",
    "x = regtotal['CTD_observado']\n",
    "y = regtotal['XBT_interpolado']\n",
    "slope, intercept, r_value, p_value, std_err = stats.linregress(x,y)\n",
    "a = slope\n",
    "bb = intercept\n",
    "rr = r_value**2\n",
    "print(rr)\n",
    "\n",
    "plt.figure(figsize=(9, 10))\n",
    "plt.scatter(XX,YY, color='r', s=50, label='Dados Observados')\n",
    "#plt.plot(X,Y,'og', s=4, label='Dados Observados')\n",
    "plt.plot([0,50],[b,m*50+b],'-b',linewidth=4, label=lege)\n",
    "plt.title(legen, fontsize = 20)\n",
    "plt.xlabel('CTD Observado', fontsize = 15)\n",
    "plt.ylabel('XBT Interpolado', fontsize = 15)\n",
    "plt.xlim(minixbt - 1,maxixbt + 1)\n",
    "plt.ylim(minictd - 1,maxictd + 1)\n",
    "plt.legend(loc='upper left', shadow=True, fontsize='large')\n",
    "plt.grid()\n",
    "plt.show()"
   ]
  },
  {
   "cell_type": "code",
   "execution_count": null,
   "metadata": {
    "collapsed": true
   },
   "outputs": [],
   "source": []
  }
 ],
 "metadata": {
  "kernelspec": {
   "display_name": "Python 3",
   "language": "python",
   "name": "python3"
  },
  "language_info": {
   "codemirror_mode": {
    "name": "ipython",
    "version": 3
   },
   "file_extension": ".py",
   "mimetype": "text/x-python",
   "name": "python",
   "nbconvert_exporter": "python",
   "pygments_lexer": "ipython3",
   "version": "3.5.1"
  }
 },
 "nbformat": 4,
 "nbformat_minor": 0
}

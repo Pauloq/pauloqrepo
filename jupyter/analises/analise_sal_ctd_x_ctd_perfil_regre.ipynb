{
 "cells": [
  {
   "cell_type": "code",
   "execution_count": 2,
   "metadata": {
    "collapsed": true
   },
   "outputs": [],
   "source": [
    "import numpy as np\n",
    "import scipy.stats as spst\n",
    "import scipy.optimize as spop\n",
    "import scipy.interpolate as spint\n",
    "import pandas as pd\n",
    "import matplotlib.pyplot as plt\n",
    "from sklearn.linear_model import LinearRegression\n",
    "from sklearn import datasets, linear_model\n",
    "from scipy import stats\n",
    "import textwrap\n",
    "from scipy.interpolate import interp1d\n"
   ]
  },
  {
   "cell_type": "markdown",
   "metadata": {},
   "source": [
    "#  Pefil CTD1 (XBT)"
   ]
  },
  {
   "cell_type": "code",
   "execution_count": 47,
   "metadata": {
    "collapsed": false
   },
   "outputs": [
    {
     "name": "stdout",
     "output_type": "stream",
     "text": [
      "Nome da Estacao:MCT030\n",
      "Numero da Estacao:30\n"
     ]
    },
    {
     "data": {
      "text/html": [
       "<div>\n",
       "<table border=\"1\" class=\"dataframe\">\n",
       "  <thead>\n",
       "    <tr style=\"text-align: right;\">\n",
       "      <th></th>\n",
       "      <th>prof_xbt</th>\n",
       "      <th>temp_xbt</th>\n",
       "    </tr>\n",
       "  </thead>\n",
       "  <tbody>\n",
       "    <tr>\n",
       "      <th>0</th>\n",
       "      <td>5</td>\n",
       "      <td>31.8038</td>\n",
       "    </tr>\n",
       "    <tr>\n",
       "      <th>1</th>\n",
       "      <td>6</td>\n",
       "      <td>31.8132</td>\n",
       "    </tr>\n",
       "    <tr>\n",
       "      <th>2</th>\n",
       "      <td>7</td>\n",
       "      <td>31.8822</td>\n",
       "    </tr>\n",
       "    <tr>\n",
       "      <th>3</th>\n",
       "      <td>8</td>\n",
       "      <td>32.0057</td>\n",
       "    </tr>\n",
       "    <tr>\n",
       "      <th>4</th>\n",
       "      <td>9</td>\n",
       "      <td>32.0561</td>\n",
       "    </tr>\n",
       "  </tbody>\n",
       "</table>\n",
       "</div>"
      ],
      "text/plain": [
       "   prof_xbt  temp_xbt\n",
       "0         5   31.8038\n",
       "1         6   31.8132\n",
       "2         7   31.8822\n",
       "3         8   32.0057\n",
       "4         9   32.0561"
      ]
     },
     "execution_count": 47,
     "metadata": {},
     "output_type": "execute_result"
    }
   ],
   "source": [
    "est = input('Nome da Estacao:')\n",
    "num = input('Numero da Estacao:')\n",
    "loc = r'C:\\Users\\Apaluz\\programacao\\pauloqrepo\\jupyter\\Analises\\CTDxCTD\\perfil_'+num+r'\\xbt_'+num+'.xlsx'\n",
    "df = pd.read_excel(loc)\n",
    "df.head(5)"
   ]
  },
  {
   "cell_type": "code",
   "execution_count": 3,
   "metadata": {
    "collapsed": false
   },
   "outputs": [],
   "source": [
    "plt.figure(figsize=(6, 8))\n",
    "plt.plot(df['temp_xbt'],df['prof_xbt'], label='Dados observados')\n",
    "plt.title('Perfil XBT Estação'+' '+est, fontsize = 20)\n",
    "plt.xlabel('Temperatura[°C]', fontsize = 15)\n",
    "plt.ylabel('Profundidade', fontsize = 15)\n",
    "plt.ylim(600, 0)\n",
    "plt.legend(loc='lower left', shadow=True, fontsize='large')\n",
    "plt.show()\n",
    "#plt.savefig(r'C:\\Users\\Apaluz\\programacao\\pauloqrepo\\jupyter\\regressaolinear\\ANALISE\\perfil_'+num+r'\\xbt_'+num+'.png')"
   ]
  },
  {
   "cell_type": "markdown",
   "metadata": {},
   "source": [
    "# Perfil CTD2 (CTDMB) "
   ]
  },
  {
   "cell_type": "code",
   "execution_count": 48,
   "metadata": {
    "collapsed": false
   },
   "outputs": [
    {
     "data": {
      "text/html": [
       "<div>\n",
       "<table border=\"1\" class=\"dataframe\">\n",
       "  <thead>\n",
       "    <tr style=\"text-align: right;\">\n",
       "      <th></th>\n",
       "      <th>prof_ctd</th>\n",
       "      <th>temp_ctd</th>\n",
       "    </tr>\n",
       "  </thead>\n",
       "  <tbody>\n",
       "    <tr>\n",
       "      <th>0</th>\n",
       "      <td>3</td>\n",
       "      <td>31.8487</td>\n",
       "    </tr>\n",
       "    <tr>\n",
       "      <th>1</th>\n",
       "      <td>4</td>\n",
       "      <td>31.8505</td>\n",
       "    </tr>\n",
       "    <tr>\n",
       "      <th>2</th>\n",
       "      <td>5</td>\n",
       "      <td>31.8579</td>\n",
       "    </tr>\n",
       "    <tr>\n",
       "      <th>3</th>\n",
       "      <td>6</td>\n",
       "      <td>31.8770</td>\n",
       "    </tr>\n",
       "    <tr>\n",
       "      <th>4</th>\n",
       "      <td>7</td>\n",
       "      <td>31.9020</td>\n",
       "    </tr>\n",
       "  </tbody>\n",
       "</table>\n",
       "</div>"
      ],
      "text/plain": [
       "   prof_ctd  temp_ctd\n",
       "0         3   31.8487\n",
       "1         4   31.8505\n",
       "2         5   31.8579\n",
       "3         6   31.8770\n",
       "4         7   31.9020"
      ]
     },
     "execution_count": 48,
     "metadata": {},
     "output_type": "execute_result"
    }
   ],
   "source": [
    "local = r'C:\\Users\\Apaluz\\programacao\\pauloqrepo\\jupyter\\Analises\\CTDxCTD\\perfil_'+num+r'\\ctd_'+num+'.xlsx'\n",
    "df2 = pd.read_excel(local)\n",
    "df2.head(5)"
   ]
  },
  {
   "cell_type": "code",
   "execution_count": 5,
   "metadata": {
    "collapsed": false
   },
   "outputs": [],
   "source": [
    "plt.figure(figsize= (6,8))\n",
    "plt.plot(df2['temp_ctd'], df2['prof_ctd'], 'g',label='Dados observados')\n",
    "plt.title('Perfil CTD Estação'+' '+est, fontsize = 20)\n",
    "plt.xlabel('Temperatura [ITS-90, deg C]', fontsize = 15)\n",
    "plt.ylabel('Profundidade [salt water, m]', fontsize = 15)\n",
    "plt.ylim(600, 0)\n",
    "plt.legend(loc='lower left', shadow=True, fontsize='large')\n",
    "plt.show()"
   ]
  },
  {
   "cell_type": "markdown",
   "metadata": {},
   "source": [
    "# CTD x XBT"
   ]
  },
  {
   "cell_type": "code",
   "execution_count": 49,
   "metadata": {
    "collapsed": false
   },
   "outputs": [],
   "source": [
    "plt.figure(figsize=(6, 8))\n",
    "plt.plot(df['temp_xbt'],df['prof_xbt'], 'b', label=\"Perfil XBT\", linewidth=5)\n",
    "plt.plot(df2['temp_ctd'], df2['prof_ctd'], 'r', label=\"Perfil CTD\", linewidth=5)\n",
    "plt.ylim(600, 0)\n",
    "plt.xlim(30, 40)\n",
    "plt.title('Perfil XBT x CTD Estação'+' '+est, fontsize = 20)\n",
    "plt.xlabel('Temperatura[°C]', fontsize = 15)\n",
    "plt.ylabel('Profundidade[m]', fontsize = 15)\n",
    "plt.legend(loc='lower left', shadow=True, fontsize='large')\n",
    "plt.show()"
   ]
  },
  {
   "cell_type": "markdown",
   "metadata": {
    "collapsed": false
   },
   "source": [
    "# Interpolacao"
   ]
  },
  {
   "cell_type": "markdown",
   "metadata": {},
   "source": [
    "Primeiro tratar os dados para o comecar nas mesmas profundidades e terminar nas respectivas. (Evitar os NaN s) \n"
   ]
  },
  {
   "cell_type": "code",
   "execution_count": 50,
   "metadata": {
    "collapsed": false
   },
   "outputs": [
    {
     "data": {
      "text/html": [
       "<div>\n",
       "<table border=\"1\" class=\"dataframe\">\n",
       "  <thead>\n",
       "    <tr style=\"text-align: right;\">\n",
       "      <th></th>\n",
       "      <th>prof_xbt</th>\n",
       "      <th>temp_xbt</th>\n",
       "      <th>prof_ctd</th>\n",
       "      <th>temp_ctd</th>\n",
       "    </tr>\n",
       "  </thead>\n",
       "  <tbody>\n",
       "    <tr>\n",
       "      <th>0</th>\n",
       "      <td>5</td>\n",
       "      <td>31.8038</td>\n",
       "      <td>5</td>\n",
       "      <td>31.8579</td>\n",
       "    </tr>\n",
       "    <tr>\n",
       "      <th>1</th>\n",
       "      <td>6</td>\n",
       "      <td>31.8132</td>\n",
       "      <td>6</td>\n",
       "      <td>31.8770</td>\n",
       "    </tr>\n",
       "    <tr>\n",
       "      <th>2</th>\n",
       "      <td>7</td>\n",
       "      <td>31.8822</td>\n",
       "      <td>7</td>\n",
       "      <td>31.9020</td>\n",
       "    </tr>\n",
       "    <tr>\n",
       "      <th>3</th>\n",
       "      <td>8</td>\n",
       "      <td>32.0057</td>\n",
       "      <td>8</td>\n",
       "      <td>31.9162</td>\n",
       "    </tr>\n",
       "  </tbody>\n",
       "</table>\n",
       "</div>"
      ],
      "text/plain": [
       "   prof_xbt  temp_xbt  prof_ctd  temp_ctd\n",
       "0         5   31.8038         5   31.8579\n",
       "1         6   31.8132         6   31.8770\n",
       "2         7   31.8822         7   31.9020\n",
       "3         8   32.0057         8   31.9162"
      ]
     },
     "execution_count": 50,
     "metadata": {},
     "output_type": "execute_result"
    }
   ],
   "source": [
    "localint = r'C:\\Users\\Apaluz\\programacao\\pauloqrepo\\jupyter\\Analises\\CTDxCTD\\perfil_'+num+r'\\xbt_ctd_'+num+'.xlsx'\n",
    "dfint = pd.read_excel(localint)\n",
    "dfint.head(4)"
   ]
  },
  {
   "cell_type": "code",
   "execution_count": 51,
   "metadata": {
    "collapsed": false
   },
   "outputs": [],
   "source": [
    "dff = []\n",
    "for i in dfint['temp_ctd']:\n",
    "    dff.append(i)\n",
    "dff2 = []\n",
    "for i in dfint['prof_ctd']:\n",
    "    dff2.append(i)\n",
    "dfint3 = pd.DataFrame(data = dff2, columns = ['prof_ctd'])\n",
    "dfint3['temp_ctd'] = dff\n",
    "\n",
    "dfint33 = dfint3.dropna()\n",
    "\n",
    "\n",
    "x = dfint['prof_xbt']\n",
    "y = dfint['temp_xbt']\n",
    "yi = dfint33['prof_ctd']\n",
    "xi = np.interp(yi, x, y)\n",
    "plt.figure()\n",
    "plt.plot(dfint33['temp_ctd'] , -dfint33['prof_ctd'] , '-ob', label = ' CTD')\n",
    "plt.plot(xi, -yi, '-or', label = 'XBT interpolado')\n",
    "plt.plot(dfint['temp_xbt'] , -dfint['prof_xbt'], '-og', label = ' XBT')\n",
    "plt.legend(loc='upper left', shadow=True, fontsize='large')\n",
    "#plt.ylim(600, 0)\n",
    "plt.show()"
   ]
  },
  {
   "cell_type": "code",
   "execution_count": 52,
   "metadata": {
    "collapsed": false
   },
   "outputs": [
    {
     "name": "stdout",
     "output_type": "stream",
     "text": [
      "xi = 58 ; x = 58 ; yi = 58 ; y = 58\n"
     ]
    }
   ],
   "source": [
    "a = len(xi)\n",
    "b = len(x)\n",
    "c = len(yi)\n",
    "d = len(y)\n",
    "if a < b:\n",
    "    print('CORRETO, CONTINUE!!!')\n",
    "print('xi =',a,'; x =',b,'; yi =', c,'; y =',d)"
   ]
  },
  {
   "cell_type": "code",
   "execution_count": 53,
   "metadata": {
    "collapsed": false
   },
   "outputs": [
    {
     "data": {
      "text/html": [
       "<div>\n",
       "<table border=\"1\" class=\"dataframe\">\n",
       "  <thead>\n",
       "    <tr style=\"text-align: right;\">\n",
       "      <th></th>\n",
       "      <th>xbt_inter</th>\n",
       "    </tr>\n",
       "  </thead>\n",
       "  <tbody>\n",
       "    <tr>\n",
       "      <th>0</th>\n",
       "      <td>31.8038</td>\n",
       "    </tr>\n",
       "    <tr>\n",
       "      <th>1</th>\n",
       "      <td>31.8132</td>\n",
       "    </tr>\n",
       "    <tr>\n",
       "      <th>2</th>\n",
       "      <td>31.8822</td>\n",
       "    </tr>\n",
       "    <tr>\n",
       "      <th>3</th>\n",
       "      <td>32.0057</td>\n",
       "    </tr>\n",
       "    <tr>\n",
       "      <th>4</th>\n",
       "      <td>32.0561</td>\n",
       "    </tr>\n",
       "  </tbody>\n",
       "</table>\n",
       "</div>"
      ],
      "text/plain": [
       "   xbt_inter\n",
       "0    31.8038\n",
       "1    31.8132\n",
       "2    31.8822\n",
       "3    32.0057\n",
       "4    32.0561"
      ]
     },
     "execution_count": 53,
     "metadata": {},
     "output_type": "execute_result"
    }
   ],
   "source": [
    "dfinterpolado = pd.DataFrame(data = xi, columns = ['xbt_inter'])\n",
    "dfinterpolado.head(5)"
   ]
  },
  {
   "cell_type": "markdown",
   "metadata": {},
   "source": [
    "# Regressao Linear"
   ]
  },
  {
   "cell_type": "markdown",
   "metadata": {
    "collapsed": true
   },
   "source": [
    "ctd = dfint33 e xbt interpolado = dfinterpolado"
   ]
  },
  {
   "cell_type": "code",
   "execution_count": 54,
   "metadata": {
    "collapsed": false
   },
   "outputs": [
    {
     "data": {
      "text/html": [
       "<div>\n",
       "<table border=\"1\" class=\"dataframe\">\n",
       "  <thead>\n",
       "    <tr style=\"text-align: right;\">\n",
       "      <th></th>\n",
       "      <th>xbt_inter</th>\n",
       "      <th>ctd</th>\n",
       "    </tr>\n",
       "  </thead>\n",
       "  <tbody>\n",
       "    <tr>\n",
       "      <th>0</th>\n",
       "      <td>31.8038</td>\n",
       "      <td>31.8579</td>\n",
       "    </tr>\n",
       "    <tr>\n",
       "      <th>1</th>\n",
       "      <td>31.8132</td>\n",
       "      <td>31.8770</td>\n",
       "    </tr>\n",
       "    <tr>\n",
       "      <th>2</th>\n",
       "      <td>31.8822</td>\n",
       "      <td>31.9020</td>\n",
       "    </tr>\n",
       "    <tr>\n",
       "      <th>3</th>\n",
       "      <td>32.0057</td>\n",
       "      <td>31.9162</td>\n",
       "    </tr>\n",
       "    <tr>\n",
       "      <th>4</th>\n",
       "      <td>32.0561</td>\n",
       "      <td>31.9511</td>\n",
       "    </tr>\n",
       "  </tbody>\n",
       "</table>\n",
       "</div>"
      ],
      "text/plain": [
       "   xbt_inter      ctd\n",
       "0    31.8038  31.8579\n",
       "1    31.8132  31.8770\n",
       "2    31.8822  31.9020\n",
       "3    32.0057  31.9162\n",
       "4    32.0561  31.9511"
      ]
     },
     "execution_count": 54,
     "metadata": {},
     "output_type": "execute_result"
    }
   ],
   "source": [
    "dfinterpolado['ctd'] = dfint33['temp_ctd']\n",
    "dfinterpolado.head(5)\n"
   ]
  },
  {
   "cell_type": "code",
   "execution_count": 25,
   "metadata": {
    "collapsed": false
   },
   "outputs": [
    {
     "data": {
      "text/html": [
       "<div>\n",
       "<table border=\"1\" class=\"dataframe\">\n",
       "  <thead>\n",
       "    <tr style=\"text-align: right;\">\n",
       "      <th></th>\n",
       "      <th>xbt_inter</th>\n",
       "      <th>ctd</th>\n",
       "    </tr>\n",
       "  </thead>\n",
       "  <tbody>\n",
       "    <tr>\n",
       "      <th>count</th>\n",
       "      <td>68.000000</td>\n",
       "      <td>68.000000</td>\n",
       "    </tr>\n",
       "    <tr>\n",
       "      <th>mean</th>\n",
       "      <td>35.161596</td>\n",
       "      <td>35.058216</td>\n",
       "    </tr>\n",
       "    <tr>\n",
       "      <th>std</th>\n",
       "      <td>1.106182</td>\n",
       "      <td>1.134837</td>\n",
       "    </tr>\n",
       "    <tr>\n",
       "      <th>min</th>\n",
       "      <td>32.536300</td>\n",
       "      <td>32.551500</td>\n",
       "    </tr>\n",
       "    <tr>\n",
       "      <th>25%</th>\n",
       "      <td>34.718925</td>\n",
       "      <td>34.648900</td>\n",
       "    </tr>\n",
       "    <tr>\n",
       "      <th>50%</th>\n",
       "      <td>35.463750</td>\n",
       "      <td>35.286050</td>\n",
       "    </tr>\n",
       "    <tr>\n",
       "      <th>75%</th>\n",
       "      <td>36.003600</td>\n",
       "      <td>35.942850</td>\n",
       "    </tr>\n",
       "    <tr>\n",
       "      <th>max</th>\n",
       "      <td>36.359500</td>\n",
       "      <td>36.271100</td>\n",
       "    </tr>\n",
       "  </tbody>\n",
       "</table>\n",
       "</div>"
      ],
      "text/plain": [
       "       xbt_inter        ctd\n",
       "count  68.000000  68.000000\n",
       "mean   35.161596  35.058216\n",
       "std     1.106182   1.134837\n",
       "min    32.536300  32.551500\n",
       "25%    34.718925  34.648900\n",
       "50%    35.463750  35.286050\n",
       "75%    36.003600  35.942850\n",
       "max    36.359500  36.271100"
      ]
     },
     "execution_count": 25,
     "metadata": {},
     "output_type": "execute_result"
    }
   ],
   "source": [
    "dfinterpolado.describe()"
   ]
  },
  {
   "cell_type": "code",
   "execution_count": 55,
   "metadata": {
    "collapsed": false
   },
   "outputs": [
    {
     "name": "stdout",
     "output_type": "stream",
     "text": [
      "y =  0.85579431x +  4.73141176\n"
     ]
    }
   ],
   "source": [
    "minixbt = dfinterpolado['xbt_inter'].min()\n",
    "minictd = dfinterpolado['ctd'].min()\n",
    "maxixbt = dfinterpolado['xbt_inter'].max()\n",
    "maxictd = dfinterpolado['ctd'].max()\n",
    "\n",
    "npMatrix = np.matrix(dfinterpolado)\n",
    "X, Y = npMatrix[:,1], npMatrix[:,0]\n",
    "mdl = LinearRegression().fit(X,Y) # either this or the next line\n",
    "#mdl = LinearRegression().fit(filtered_data[['x']],filtered_data.y)\n",
    "m = mdl.coef_[0]\n",
    "b = mdl.intercept_\n",
    "#print(\"formula: y = {0}x + {1}\".format(m, b)) # following slope intercept form \n",
    "stm = str(m)\n",
    "stb = str(b)\n",
    "form = (\"y = {0}x + {1}\".format(stm[1:len(stm)-1], stb[1:len(stb)-1]))\n",
    "print(form)"
   ]
  },
  {
   "cell_type": "code",
   "execution_count": 56,
   "metadata": {
    "collapsed": false
   },
   "outputs": [
    {
     "name": "stdout",
     "output_type": "stream",
     "text": [
      "0.957715666948\n"
     ]
    }
   ],
   "source": [
    "##Estatistica, regressao linear coeficientes\n",
    "x = dfinterpolado[\"ctd\"]\n",
    "y = dfinterpolado[\"xbt_inter\"]\n",
    "slope, intercept, r_value, p_value, std_err = stats.linregress(x,y)\n",
    "a = slope\n",
    "bb = intercept\n",
    "rr = r_value**2\n",
    "print(rr)"
   ]
  },
  {
   "cell_type": "code",
   "execution_count": 57,
   "metadata": {
    "collapsed": false
   },
   "outputs": [
    {
     "name": "stdout",
     "output_type": "stream",
     "text": [
      "Comparação dos valores de Temperatura\n",
      "CTD MB x CTD FURG MCT030\n"
     ]
    }
   ],
   "source": [
    "foorm = str(form) +' '+ 'R² ='+' '+ str(rr)\n",
    "lege = textwrap.fill(foorm,len(str(form)))\n",
    "palavra = 'Comparação dos valores de Temperatura CTD MB x CTD FURG' +' '+est \n",
    "legen = textwrap.fill(palavra,40)\n",
    "print(legen)\n",
    "\n",
    "plt.figure(figsize=(9, 10))\n",
    "plt.scatter(X,Y, color='r', s=50, label='Dados Observados')\n",
    "#plt.plot(X,Y,'og', s=4, label='Dados Observados')\n",
    "plt.plot([0,50],[b,m*50+b],'-b',linewidth=4, label=lege)\n",
    "plt.title(legen, fontsize = 20)\n",
    "plt.xlabel('CTD Observado', fontsize = 15)\n",
    "plt.ylabel('XBT Interpolado', fontsize = 15)\n",
    "plt.xlim(minixbt - 1,maxixbt + 1)\n",
    "plt.ylim(minictd - 1,maxictd + 1)\n",
    "plt.legend(loc='upper left', shadow=True, fontsize='large')\n",
    "plt.grid()\n",
    "plt.show()"
   ]
  },
  {
   "cell_type": "code",
   "execution_count": 58,
   "metadata": {
    "collapsed": false
   },
   "outputs": [],
   "source": [
    "dados = pd.DataFrame(data = X, columns= ['CTD_observado'])\n",
    "dados['XBT_interpolado'] = Y \n",
    "dados.to_excel(r'C:\\Users\\Apaluz\\programacao\\pauloqrepo\\jupyter\\Analises\\CTDxCTD\\perfil_'+ num +r'\\perfil_sal_REGRE'+ num +'.xlsx',index=True,header=True)\n",
    "\n"
   ]
  },
  {
   "cell_type": "code",
   "execution_count": null,
   "metadata": {
    "collapsed": true
   },
   "outputs": [],
   "source": []
  },
  {
   "cell_type": "markdown",
   "metadata": {},
   "source": [
    "# Regressao e Perfis"
   ]
  },
  {
   "cell_type": "code",
   "execution_count": 29,
   "metadata": {
    "collapsed": false
   },
   "outputs": [
    {
     "name": "stdout",
     "output_type": "stream",
     "text": [
      "Perfil CTD MB x CTD FURG\n",
      "Estação MCT007\n"
     ]
    }
   ],
   "source": [
    "palavras = 'Perfil CTD MB x CTD FURG Estação'+' '+est\n",
    "legens = textwrap.fill(palavras,25)\n",
    "print(legens)"
   ]
  },
  {
   "cell_type": "code",
   "execution_count": 62,
   "metadata": {
    "collapsed": false
   },
   "outputs": [
    {
     "name": "stdout",
     "output_type": "stream",
     "text": [
      "Perfil CTD MB x CTD FURG\n",
      "Estação MCT030\n",
      "Comparação dos valores de Salinidade\n",
      "CTD MB x CTD FURG Total\n"
     ]
    }
   ],
   "source": [
    "palavras = 'Perfil CTD MB x CTD FURG Estação'+' '+est\n",
    "legens = textwrap.fill(palavras,25)\n",
    "print(legens)\n",
    "foorm = str(form) +' '+ 'R² ='+' '+ str(rr)\n",
    "lege = textwrap.fill(foorm,len(str(form)))\n",
    "palavra = 'Comparação dos valores de Salinidade CTD MB x CTD FURG' +' '+est \n",
    "legen = textwrap.fill(palavra,38)\n",
    "print(legen)\n",
    "\n",
    "\n",
    "plt.figure(figsize=(6, 8))\n",
    "plt.plot(df['temp_xbt'],df['prof_xbt'], 'b', label=\"Perfil CTD FURG\", linewidth=5)\n",
    "plt.plot(df2['temp_ctd'], df2['prof_ctd'], 'r', label=\"Perfil CTD MB\", linewidth=5)\n",
    "plt.ylim(100, 0)\n",
    "plt.xlim(30, 40)\n",
    "plt.title(legens, fontsize = 20)\n",
    "plt.xlabel('Salinidade[PSU]', fontsize = 15)\n",
    "plt.ylabel('Profundidade[m]', fontsize = 15)\n",
    "plt.legend(loc='lower left', shadow=True, fontsize='large')\n",
    "plt.grid()\n",
    "#plt.show()\n",
    "\n",
    "plt.figure(figsize=(9, 10))\n",
    "plt.scatter(X,Y, color='r', s=50, label='Dados Observados')\n",
    "#plt.plot(X,Y,'og', s=4, label='Dados Observados')\n",
    "plt.plot([0,50],[b,m*50+b],'-b',linewidth=4, label=lege)\n",
    "plt.title(legen, fontsize = 20)\n",
    "plt.xlabel('CTD MB', fontsize = 15)\n",
    "plt.ylabel('CTD FURG', fontsize = 15)\n",
    "plt.xlim(minixbt - 1,maxixbt + 1)\n",
    "plt.ylim(minictd - 1,maxictd + 1)\n",
    "plt.legend(loc='upper left', shadow=True, fontsize='large')\n",
    "plt.grid()\n",
    "plt.show()"
   ]
  },
  {
   "cell_type": "markdown",
   "metadata": {},
   "source": [
    "# REGRESSAO TOTAL"
   ]
  },
  {
   "cell_type": "code",
   "execution_count": 61,
   "metadata": {
    "collapsed": false
   },
   "outputs": [
    {
     "data": {
      "text/html": [
       "<div>\n",
       "<table border=\"1\" class=\"dataframe\">\n",
       "  <thead>\n",
       "    <tr style=\"text-align: right;\">\n",
       "      <th></th>\n",
       "      <th>CTD_observado</th>\n",
       "      <th>XBT_interpolado</th>\n",
       "    </tr>\n",
       "  </thead>\n",
       "  <tbody>\n",
       "    <tr>\n",
       "      <th>0</th>\n",
       "      <td>34.1945</td>\n",
       "      <td>33.8420</td>\n",
       "    </tr>\n",
       "    <tr>\n",
       "      <th>1</th>\n",
       "      <td>34.1801</td>\n",
       "      <td>33.8370</td>\n",
       "    </tr>\n",
       "    <tr>\n",
       "      <th>2</th>\n",
       "      <td>34.1803</td>\n",
       "      <td>33.8324</td>\n",
       "    </tr>\n",
       "    <tr>\n",
       "      <th>3</th>\n",
       "      <td>34.1805</td>\n",
       "      <td>33.8319</td>\n",
       "    </tr>\n",
       "  </tbody>\n",
       "</table>\n",
       "</div>"
      ],
      "text/plain": [
       "   CTD_observado  XBT_interpolado\n",
       "0        34.1945          33.8420\n",
       "1        34.1801          33.8370\n",
       "2        34.1803          33.8324\n",
       "3        34.1805          33.8319"
      ]
     },
     "execution_count": 61,
     "metadata": {},
     "output_type": "execute_result"
    }
   ],
   "source": [
    "#####regressao Total\n",
    "\n",
    "regtotal = pd.read_excel(r'C:\\Users\\Apaluz\\programacao\\pauloqrepo\\jupyter\\Analises\\CTDxCTD\\perfil_sal_REGRE_TOTAL.xlsx')\n",
    "regtotal.head(4)"
   ]
  },
  {
   "cell_type": "code",
   "execution_count": 63,
   "metadata": {
    "collapsed": false
   },
   "outputs": [
    {
     "name": "stdout",
     "output_type": "stream",
     "text": [
      "y =  0.85579431x +  4.73141176\n",
      "0.960373741109\n",
      "Comparação dos valores de Salinidade\n",
      "CTD MB x CTD FURG Total\n"
     ]
    }
   ],
   "source": [
    "minixbt = regtotal['XBT_interpolado'].min()\n",
    "minictd = regtotal['CTD_observado'].min()\n",
    "maxixbt = regtotal['XBT_interpolado'].max()\n",
    "maxictd = regtotal['CTD_observado'].max()\n",
    "\n",
    "npMatrix = np.matrix(regtotal)\n",
    "XX, YY = npMatrix[:,1], npMatrix[:,0]\n",
    "mdl = LinearRegression().fit(X,Y) # either this or the next line\n",
    "#mdl = LinearRegression().fit(filtered_data[['x']],filtered_data.y)\n",
    "m = mdl.coef_[0]\n",
    "b = mdl.intercept_\n",
    "#print(\"formula: y = {0}x + {1}\".format(m, b)) # following slope intercept form \n",
    "stm = str(m)\n",
    "stb = str(b)\n",
    "form = (\"y = {0}x + {1}\".format(stm[1:len(stm)-1], stb[1:len(stb)-1]))\n",
    "print(form)\n",
    "\n",
    "x = regtotal['CTD_observado']\n",
    "y = regtotal['XBT_interpolado']\n",
    "slope, intercept, r_value, p_value, std_err = stats.linregress(x,y)\n",
    "a = slope\n",
    "bb = intercept\n",
    "rr = r_value**2\n",
    "print(rr)\n",
    "\n",
    "palavra = 'Comparação dos valores de Salinidade CTD MB x CTD FURG Total'# +' '+est \n",
    "legen = textwrap.fill(palavra,38)\n",
    "print(legen)\n",
    "\n",
    "plt.figure(figsize=(9, 10))\n",
    "plt.scatter(XX,YY, color='r', s=50, label='Dados Observados')\n",
    "#plt.plot(X,Y,'og', s=4, label='Dados Observados')\n",
    "plt.plot([0,50],[b,m*50+b],'-b',linewidth=4, label=lege)\n",
    "plt.title(legen, fontsize = 20)\n",
    "plt.xlabel('CTD MB', fontsize = 15)\n",
    "plt.ylabel('CTD FURG', fontsize = 15)\n",
    "plt.xlim(minixbt - 1,maxixbt + 1)\n",
    "plt.ylim(minictd - 1,maxictd + 1)\n",
    "plt.legend(loc='upper left', shadow=True, fontsize='large')\n",
    "plt.grid()\n",
    "plt.show()"
   ]
  },
  {
   "cell_type": "code",
   "execution_count": null,
   "metadata": {
    "collapsed": true
   },
   "outputs": [],
   "source": []
  }
 ],
 "metadata": {
  "kernelspec": {
   "display_name": "Python 3",
   "language": "python",
   "name": "python3"
  },
  "language_info": {
   "codemirror_mode": {
    "name": "ipython",
    "version": 3
   },
   "file_extension": ".py",
   "mimetype": "text/x-python",
   "name": "python",
   "nbconvert_exporter": "python",
   "pygments_lexer": "ipython3",
   "version": "3.5.1"
  }
 },
 "nbformat": 4,
 "nbformat_minor": 0
}

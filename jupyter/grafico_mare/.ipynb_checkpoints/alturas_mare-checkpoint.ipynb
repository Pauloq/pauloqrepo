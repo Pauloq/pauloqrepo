{
 "cells": [
  {
   "cell_type": "code",
   "execution_count": 31,
   "metadata": {
    "collapsed": false
   },
   "outputs": [],
   "source": [
    "from pandas import DataFrame, read_csv, datetime, Series, Timestamp\n",
    "import matplotlib.pyplot as plt\n",
    "import pandas as pd\n",
    "import matplotlib\n",
    "import numpy as np\n",
    "from pandas.tseries.offsets import *\n",
    "#%matplotlib inline"
   ]
  },
  {
   "cell_type": "code",
   "execution_count": 10,
   "metadata": {
    "collapsed": false
   },
   "outputs": [],
   "source": [
    "#Local = r'/home/pauloque/programacao/pauloqrepo/jupyter/grafico_mare/dados_brutos/alturas_mare2.csv'\n",
    "#df1 = pd.read_csv(Local, header = None)\n",
    "#df1 = pd.read_csv(Local, names = ['Data','H1','A1', 'H2', 'A2', 'H3', 'A3','H4', 'A4', 'H5', 'A5', 'H6', 'A6', 'H7', 'A7', 'H8', 'A8'])"
   ]
  },
  {
   "cell_type": "code",
   "execution_count": 9,
   "metadata": {
    "collapsed": false,
    "scrolled": true
   },
   "outputs": [],
   "source": [
    "#df1.head()"
   ]
  },
  {
   "cell_type": "code",
   "execution_count": 5,
   "metadata": {
    "collapsed": false
   },
   "outputs": [],
   "source": [
    "####df.to_excel('teste_excel_expo.xlsx', index = False)"
   ]
  },
  {
   "cell_type": "code",
   "execution_count": 32,
   "metadata": {
    "collapsed": false,
    "scrolled": true
   },
   "outputs": [],
   "source": [
    "loca = r'/home/pauloque/programacao/pauloqrepo/jupyter/grafico_mare/dados_brutos/alturas_mare_excel.xlsx'\n",
    "df = pd.read_excel(loca)"
   ]
  },
  {
   "cell_type": "code",
   "execution_count": 33,
   "metadata": {
    "collapsed": false
   },
   "outputs": [
    {
     "data": {
      "text/html": [
       "<div>\n",
       "<table border=\"1\" class=\"dataframe\">\n",
       "  <thead>\n",
       "    <tr style=\"text-align: right;\">\n",
       "      <th></th>\n",
       "      <th>DATA</th>\n",
       "      <th>HORA</th>\n",
       "      <th>ALT</th>\n",
       "      <th>HORA.1</th>\n",
       "      <th>ALT.1</th>\n",
       "      <th>HORA.2</th>\n",
       "      <th>ALT.2</th>\n",
       "      <th>HORA.3</th>\n",
       "      <th>ALT.3</th>\n",
       "      <th>HORA.4</th>\n",
       "      <th>ALT.4</th>\n",
       "      <th>HORA.5</th>\n",
       "      <th>ALT.5</th>\n",
       "      <th>HORA.6</th>\n",
       "      <th>ALT.6</th>\n",
       "      <th>HORA.7</th>\n",
       "      <th>ALT  HORA  ALT  HORA  ALT</th>\n",
       "    </tr>\n",
       "  </thead>\n",
       "  <tbody>\n",
       "    <tr>\n",
       "      <th>0</th>\n",
       "      <td>2016-01-01</td>\n",
       "      <td>01:13:00</td>\n",
       "      <td>0.7</td>\n",
       "      <td>03:39:00</td>\n",
       "      <td>0.5</td>\n",
       "      <td>07:17:00</td>\n",
       "      <td>1.3</td>\n",
       "      <td>10:56:00</td>\n",
       "      <td>0.6</td>\n",
       "      <td>13:21:00</td>\n",
       "      <td>0.8</td>\n",
       "      <td>15:54:00</td>\n",
       "      <td>0.6</td>\n",
       "      <td>19:36:00</td>\n",
       "      <td>1.3</td>\n",
       "      <td>23:13:00</td>\n",
       "      <td>0.6</td>\n",
       "    </tr>\n",
       "    <tr>\n",
       "      <th>1</th>\n",
       "      <td>2016-01-02</td>\n",
       "      <td>01:43:00</td>\n",
       "      <td>0.8</td>\n",
       "      <td>04:26:00</td>\n",
       "      <td>0.5</td>\n",
       "      <td>08:08:00</td>\n",
       "      <td>1.2</td>\n",
       "      <td>11:30:00</td>\n",
       "      <td>0.7</td>\n",
       "      <td>13:47:00</td>\n",
       "      <td>0.8</td>\n",
       "      <td>16:43:00</td>\n",
       "      <td>0.6</td>\n",
       "      <td>20:26:00</td>\n",
       "      <td>1.2</td>\n",
       "      <td>23:58:00</td>\n",
       "      <td>0.7</td>\n",
       "    </tr>\n",
       "    <tr>\n",
       "      <th>2</th>\n",
       "      <td>2016-01-03</td>\n",
       "      <td>02:00:00</td>\n",
       "      <td>0.8</td>\n",
       "      <td>05:11:00</td>\n",
       "      <td>0.5</td>\n",
       "      <td>09:04:00</td>\n",
       "      <td>1.1</td>\n",
       "      <td>12:13:00</td>\n",
       "      <td>0.8</td>\n",
       "      <td>13:56:00</td>\n",
       "      <td>0.9</td>\n",
       "      <td>17:24:00</td>\n",
       "      <td>0.5</td>\n",
       "      <td>21:28:00</td>\n",
       "      <td>1.2</td>\n",
       "      <td>NaN</td>\n",
       "      <td>NaN</td>\n",
       "    </tr>\n",
       "    <tr>\n",
       "      <th>3</th>\n",
       "      <td>2016-01-04</td>\n",
       "      <td>00:53:00</td>\n",
       "      <td>0.9</td>\n",
       "      <td>02:06:00</td>\n",
       "      <td>0.9</td>\n",
       "      <td>06:02:00</td>\n",
       "      <td>0.5</td>\n",
       "      <td>10:13:00</td>\n",
       "      <td>1.1</td>\n",
       "      <td>18:09:00</td>\n",
       "      <td>0.4</td>\n",
       "      <td>22:53:00</td>\n",
       "      <td>1.2</td>\n",
       "      <td>NaN</td>\n",
       "      <td>NaN</td>\n",
       "      <td>NaN</td>\n",
       "      <td>NaN</td>\n",
       "    </tr>\n",
       "    <tr>\n",
       "      <th>4</th>\n",
       "      <td>2016-01-05</td>\n",
       "      <td>06:56:00</td>\n",
       "      <td>0.4</td>\n",
       "      <td>11:49:00</td>\n",
       "      <td>1.1</td>\n",
       "      <td>18:58:00</td>\n",
       "      <td>0.3</td>\n",
       "      <td>NaN</td>\n",
       "      <td>NaN</td>\n",
       "      <td>NaN</td>\n",
       "      <td>NaN</td>\n",
       "      <td>NaN</td>\n",
       "      <td>NaN</td>\n",
       "      <td>NaN</td>\n",
       "      <td>NaN</td>\n",
       "      <td>NaN</td>\n",
       "      <td>NaN</td>\n",
       "    </tr>\n",
       "  </tbody>\n",
       "</table>\n",
       "</div>"
      ],
      "text/plain": [
       "        DATA      HORA  ALT    HORA.1  ALT.1    HORA.2  ALT.2    HORA.3  \\\n",
       "0 2016-01-01  01:13:00  0.7  03:39:00    0.5  07:17:00    1.3  10:56:00   \n",
       "1 2016-01-02  01:43:00  0.8  04:26:00    0.5  08:08:00    1.2  11:30:00   \n",
       "2 2016-01-03  02:00:00  0.8  05:11:00    0.5  09:04:00    1.1  12:13:00   \n",
       "3 2016-01-04  00:53:00  0.9  02:06:00    0.9  06:02:00    0.5  10:13:00   \n",
       "4 2016-01-05  06:56:00  0.4  11:49:00    1.1  18:58:00    0.3       NaN   \n",
       "\n",
       "   ALT.3    HORA.4  ALT.4    HORA.5  ALT.5    HORA.6  ALT.6    HORA.7  \\\n",
       "0    0.6  13:21:00    0.8  15:54:00    0.6  19:36:00    1.3  23:13:00   \n",
       "1    0.7  13:47:00    0.8  16:43:00    0.6  20:26:00    1.2  23:58:00   \n",
       "2    0.8  13:56:00    0.9  17:24:00    0.5  21:28:00    1.2       NaN   \n",
       "3    1.1  18:09:00    0.4  22:53:00    1.2       NaN    NaN       NaN   \n",
       "4    NaN       NaN    NaN       NaN    NaN       NaN    NaN       NaN   \n",
       "\n",
       "   ALT  HORA  ALT  HORA  ALT  \n",
       "0                        0.6  \n",
       "1                        0.7  \n",
       "2                        NaN  \n",
       "3                        NaN  \n",
       "4                        NaN  "
      ]
     },
     "execution_count": 33,
     "metadata": {},
     "output_type": "execute_result"
    }
   ],
   "source": [
    "df.head()"
   ]
  },
  {
   "cell_type": "code",
   "execution_count": 34,
   "metadata": {
    "collapsed": false
   },
   "outputs": [
    {
     "data": {
      "text/plain": [
       "'2016-01-01 00:00:00'"
      ]
     },
     "execution_count": 34,
     "metadata": {},
     "output_type": "execute_result"
    }
   ],
   "source": [
    "data = str(df['DATA'][0])\n",
    "data"
   ]
  },
  {
   "cell_type": "code",
   "execution_count": 35,
   "metadata": {
    "collapsed": false
   },
   "outputs": [
    {
     "data": {
      "text/plain": [
       "'2016-01-01 01:13:00'"
      ]
     },
     "execution_count": 35,
     "metadata": {},
     "output_type": "execute_result"
    }
   ],
   "source": [
    "stampdata = data[0:len(data) - 9] + ' ' + str(df['HORA'][0])\n",
    "stampdata\n"
   ]
  },
  {
   "cell_type": "code",
   "execution_count": 36,
   "metadata": {
    "collapsed": false
   },
   "outputs": [
    {
     "data": {
      "text/plain": [
       "Timestamp('2016-01-01 01:13:00')"
      ]
     },
     "execution_count": 36,
     "metadata": {},
     "output_type": "execute_result"
    }
   ],
   "source": [
    "hora = Timestamp(stampdata)\n",
    "hora"
   ]
  },
  {
   "cell_type": "code",
   "execution_count": 37,
   "metadata": {
    "collapsed": false
   },
   "outputs": [],
   "source": [
    "#for i in df:\n",
    "    #print(i)"
   ]
  },
  {
   "cell_type": "code",
   "execution_count": 38,
   "metadata": {
    "collapsed": false
   },
   "outputs": [],
   "source": [
    "#for i in df:\n",
    " #   if i == 'A1':\n",
    "        #print(df[i])"
   ]
  },
  {
   "cell_type": "code",
   "execution_count": 39,
   "metadata": {
    "collapsed": false
   },
   "outputs": [],
   "source": [
    "#d = df['DATA'][1] \n",
    "#d"
   ]
  },
  {
   "cell_type": "code",
   "execution_count": 40,
   "metadata": {
    "collapsed": false
   },
   "outputs": [],
   "source": [
    "#dhh = d + Hour(1)\n",
    "#D = dhh + Minute(43)\n",
    "#D"
   ]
  },
  {
   "cell_type": "code",
   "execution_count": 41,
   "metadata": {
    "collapsed": false
   },
   "outputs": [],
   "source": [
    "#h = df['HORA'][1]\n",
    "#h"
   ]
  },
  {
   "cell_type": "code",
   "execution_count": 42,
   "metadata": {
    "collapsed": false
   },
   "outputs": [],
   "source": [
    "#pd.Timestamp('1, 2')"
   ]
  },
  {
   "cell_type": "code",
   "execution_count": 44,
   "metadata": {
    "collapsed": false
   },
   "outputs": [],
   "source": [
    "hora = pd.date_range(start='2016-01-02', end='2016-02-02', periods=None, freq='D', tz=None)"
   ]
  },
  {
   "cell_type": "code",
   "execution_count": 45,
   "metadata": {
    "collapsed": false
   },
   "outputs": [
    {
     "data": {
      "text/plain": [
       "[Timestamp('2016-01-02 00:00:00'),\n",
       " Timestamp('2016-01-03 00:00:00'),\n",
       " Timestamp('2016-01-04 00:00:00'),\n",
       " Timestamp('2016-01-05 00:00:00'),\n",
       " Timestamp('2016-01-06 00:00:00'),\n",
       " Timestamp('2016-01-07 00:00:00'),\n",
       " Timestamp('2016-01-08 00:00:00'),\n",
       " Timestamp('2016-01-09 00:00:00'),\n",
       " Timestamp('2016-01-10 00:00:00'),\n",
       " Timestamp('2016-01-11 00:00:00'),\n",
       " Timestamp('2016-01-12 00:00:00'),\n",
       " Timestamp('2016-01-13 00:00:00'),\n",
       " Timestamp('2016-01-14 00:00:00'),\n",
       " Timestamp('2016-01-15 00:00:00'),\n",
       " Timestamp('2016-01-16 00:00:00'),\n",
       " Timestamp('2016-01-17 00:00:00'),\n",
       " Timestamp('2016-01-18 00:00:00'),\n",
       " Timestamp('2016-01-19 00:00:00'),\n",
       " Timestamp('2016-01-20 00:00:00'),\n",
       " Timestamp('2016-01-21 00:00:00'),\n",
       " Timestamp('2016-01-22 00:00:00'),\n",
       " Timestamp('2016-01-23 00:00:00'),\n",
       " Timestamp('2016-01-24 00:00:00'),\n",
       " Timestamp('2016-01-25 00:00:00'),\n",
       " Timestamp('2016-01-26 00:00:00'),\n",
       " Timestamp('2016-01-27 00:00:00'),\n",
       " Timestamp('2016-01-28 00:00:00'),\n",
       " Timestamp('2016-01-29 00:00:00'),\n",
       " Timestamp('2016-01-30 00:00:00'),\n",
       " Timestamp('2016-01-31 00:00:00'),\n",
       " Timestamp('2016-02-01 00:00:00'),\n",
       " Timestamp('2016-02-02 00:00:00')]"
      ]
     },
     "execution_count": 45,
     "metadata": {},
     "output_type": "execute_result"
    }
   ],
   "source": [
    "data =[]\n",
    "\n",
    "for i in hora:\n",
    "    data.append(Timestamp(i))\n",
    "data"
   ]
  },
  {
   "cell_type": "code",
   "execution_count": 30,
   "metadata": {
    "collapsed": false
   },
   "outputs": [],
   "source": [
    "#dh = df['HORA'][1]\n",
    "#dh"
   ]
  },
  {
   "cell_type": "code",
   "execution_count": 46,
   "metadata": {
    "collapsed": false
   },
   "outputs": [],
   "source": [
    "#df.dtypes"
   ]
  },
  {
   "cell_type": "code",
   "execution_count": 47,
   "metadata": {
    "collapsed": false
   },
   "outputs": [],
   "source": [
    "#dhs = str(dh)\n",
    "#for i, e in enumerate(dhs):\n",
    "    #print(i, e)\n"
   ]
  },
  {
   "cell_type": "code",
   "execution_count": 23,
   "metadata": {
    "collapsed": false
   },
   "outputs": [],
   "source": [
    "#int(dhs[3:5])"
   ]
  },
  {
   "cell_type": "code",
   "execution_count": null,
   "metadata": {
    "collapsed": false
   },
   "outputs": [],
   "source": []
  },
  {
   "cell_type": "code",
   "execution_count": null,
   "metadata": {
    "collapsed": false
   },
   "outputs": [],
   "source": []
  },
  {
   "cell_type": "code",
   "execution_count": null,
   "metadata": {
    "collapsed": true
   },
   "outputs": [],
   "source": []
  }
 ],
 "metadata": {
  "kernelspec": {
   "display_name": "Python 3",
   "language": "python",
   "name": "python3"
  },
  "language_info": {
   "codemirror_mode": {
    "name": "ipython",
    "version": 3
   },
   "file_extension": ".py",
   "mimetype": "text/x-python",
   "name": "python",
   "nbconvert_exporter": "python",
   "pygments_lexer": "ipython3",
   "version": "3.5.1"
  }
 },
 "nbformat": 4,
 "nbformat_minor": 0
}

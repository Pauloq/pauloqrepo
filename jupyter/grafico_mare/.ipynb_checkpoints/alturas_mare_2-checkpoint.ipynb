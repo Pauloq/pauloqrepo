{
 "cells": [
  {
   "cell_type": "code",
   "execution_count": 11,
   "metadata": {
    "collapsed": true
   },
   "outputs": [],
   "source": [
    "from pandas import DataFrame, read_csv, datetime, Series, Timestamp\n",
    "import matplotlib.pyplot as plt\n",
    "import pandas as pd\n",
    "import matplotlib\n",
    "import numpy as np\n",
    "from pandas.tseries.offsets import *\n",
    "#%matplotlib inline"
   ]
  },
  {
   "cell_type": "code",
   "execution_count": 12,
   "metadata": {
    "collapsed": true
   },
   "outputs": [],
   "source": [
    "loca = r'/home/pauloque/programacao/pauloqrepo/jupyter/grafico_mare/dados_brutos/alturas_mare_excel.xlsx'\n",
    "df = pd.read_excel(loca)"
   ]
  },
  {
   "cell_type": "code",
   "execution_count": 13,
   "metadata": {
    "collapsed": false
   },
   "outputs": [
    {
     "data": {
      "text/html": [
       "<div>\n",
       "<table border=\"1\" class=\"dataframe\">\n",
       "  <thead>\n",
       "    <tr style=\"text-align: right;\">\n",
       "      <th></th>\n",
       "      <th>DATA</th>\n",
       "      <th>HORA</th>\n",
       "      <th>ALT</th>\n",
       "      <th>HORA.1</th>\n",
       "      <th>ALT.1</th>\n",
       "      <th>HORA.2</th>\n",
       "      <th>ALT.2</th>\n",
       "      <th>HORA.3</th>\n",
       "      <th>ALT.3</th>\n",
       "      <th>HORA.4</th>\n",
       "      <th>ALT.4</th>\n",
       "      <th>HORA.5</th>\n",
       "      <th>ALT.5</th>\n",
       "      <th>HORA.6</th>\n",
       "      <th>ALT.6</th>\n",
       "      <th>HORA.7</th>\n",
       "      <th>ALT.7</th>\n",
       "    </tr>\n",
       "  </thead>\n",
       "  <tbody>\n",
       "    <tr>\n",
       "      <th>0</th>\n",
       "      <td>2016-01-01</td>\n",
       "      <td>01:13:00</td>\n",
       "      <td>0.7</td>\n",
       "      <td>03:39:00</td>\n",
       "      <td>0.5</td>\n",
       "      <td>07:17:00</td>\n",
       "      <td>1.3</td>\n",
       "      <td>10:56:00</td>\n",
       "      <td>0.6</td>\n",
       "      <td>13:21:00</td>\n",
       "      <td>0.8</td>\n",
       "      <td>15:54:00</td>\n",
       "      <td>0.6</td>\n",
       "      <td>19:36:00</td>\n",
       "      <td>1.3</td>\n",
       "      <td>23:13:00</td>\n",
       "      <td>0.6</td>\n",
       "    </tr>\n",
       "    <tr>\n",
       "      <th>1</th>\n",
       "      <td>2016-01-02</td>\n",
       "      <td>01:43:00</td>\n",
       "      <td>0.8</td>\n",
       "      <td>04:26:00</td>\n",
       "      <td>0.5</td>\n",
       "      <td>08:08:00</td>\n",
       "      <td>1.2</td>\n",
       "      <td>11:30:00</td>\n",
       "      <td>0.7</td>\n",
       "      <td>13:47:00</td>\n",
       "      <td>0.8</td>\n",
       "      <td>16:43:00</td>\n",
       "      <td>0.6</td>\n",
       "      <td>20:26:00</td>\n",
       "      <td>1.2</td>\n",
       "      <td>23:58:00</td>\n",
       "      <td>0.7</td>\n",
       "    </tr>\n",
       "    <tr>\n",
       "      <th>2</th>\n",
       "      <td>2016-01-03</td>\n",
       "      <td>02:00:00</td>\n",
       "      <td>0.8</td>\n",
       "      <td>05:11:00</td>\n",
       "      <td>0.5</td>\n",
       "      <td>09:04:00</td>\n",
       "      <td>1.1</td>\n",
       "      <td>12:13:00</td>\n",
       "      <td>0.8</td>\n",
       "      <td>13:56:00</td>\n",
       "      <td>0.9</td>\n",
       "      <td>17:24:00</td>\n",
       "      <td>0.5</td>\n",
       "      <td>21:28:00</td>\n",
       "      <td>1.2</td>\n",
       "      <td>NaN</td>\n",
       "      <td>NaN</td>\n",
       "    </tr>\n",
       "    <tr>\n",
       "      <th>3</th>\n",
       "      <td>2016-01-04</td>\n",
       "      <td>00:53:00</td>\n",
       "      <td>0.9</td>\n",
       "      <td>02:06:00</td>\n",
       "      <td>0.9</td>\n",
       "      <td>06:02:00</td>\n",
       "      <td>0.5</td>\n",
       "      <td>10:13:00</td>\n",
       "      <td>1.1</td>\n",
       "      <td>18:09:00</td>\n",
       "      <td>0.4</td>\n",
       "      <td>22:53:00</td>\n",
       "      <td>1.2</td>\n",
       "      <td>NaN</td>\n",
       "      <td>NaN</td>\n",
       "      <td>NaN</td>\n",
       "      <td>NaN</td>\n",
       "    </tr>\n",
       "    <tr>\n",
       "      <th>4</th>\n",
       "      <td>2016-01-05</td>\n",
       "      <td>06:56:00</td>\n",
       "      <td>0.4</td>\n",
       "      <td>11:49:00</td>\n",
       "      <td>1.1</td>\n",
       "      <td>18:58:00</td>\n",
       "      <td>0.3</td>\n",
       "      <td>NaN</td>\n",
       "      <td>NaN</td>\n",
       "      <td>NaN</td>\n",
       "      <td>NaN</td>\n",
       "      <td>NaN</td>\n",
       "      <td>NaN</td>\n",
       "      <td>NaN</td>\n",
       "      <td>NaN</td>\n",
       "      <td>NaN</td>\n",
       "      <td>NaN</td>\n",
       "    </tr>\n",
       "  </tbody>\n",
       "</table>\n",
       "</div>"
      ],
      "text/plain": [
       "        DATA      HORA  ALT    HORA.1  ALT.1    HORA.2  ALT.2    HORA.3  \\\n",
       "0 2016-01-01  01:13:00  0.7  03:39:00    0.5  07:17:00    1.3  10:56:00   \n",
       "1 2016-01-02  01:43:00  0.8  04:26:00    0.5  08:08:00    1.2  11:30:00   \n",
       "2 2016-01-03  02:00:00  0.8  05:11:00    0.5  09:04:00    1.1  12:13:00   \n",
       "3 2016-01-04  00:53:00  0.9  02:06:00    0.9  06:02:00    0.5  10:13:00   \n",
       "4 2016-01-05  06:56:00  0.4  11:49:00    1.1  18:58:00    0.3       NaN   \n",
       "\n",
       "   ALT.3    HORA.4  ALT.4    HORA.5  ALT.5    HORA.6  ALT.6    HORA.7  ALT.7  \n",
       "0    0.6  13:21:00    0.8  15:54:00    0.6  19:36:00    1.3  23:13:00    0.6  \n",
       "1    0.7  13:47:00    0.8  16:43:00    0.6  20:26:00    1.2  23:58:00    0.7  \n",
       "2    0.8  13:56:00    0.9  17:24:00    0.5  21:28:00    1.2       NaN    NaN  \n",
       "3    1.1  18:09:00    0.4  22:53:00    1.2       NaN    NaN       NaN    NaN  \n",
       "4    NaN       NaN    NaN       NaN    NaN       NaN    NaN       NaN    NaN  "
      ]
     },
     "execution_count": 13,
     "metadata": {},
     "output_type": "execute_result"
    }
   ],
   "source": [
    "df.head()"
   ]
  },
  {
   "cell_type": "markdown",
   "metadata": {},
   "source": [
    "## DATA e HORA para string "
   ]
  },
  {
   "cell_type": "code",
   "execution_count": 29,
   "metadata": {
    "collapsed": false
   },
   "outputs": [
    {
     "data": {
      "text/plain": [
       "'2016-01-01 00:00:00'"
      ]
     },
     "execution_count": 29,
     "metadata": {},
     "output_type": "execute_result"
    }
   ],
   "source": [
    "data = str(df['DATA'][0])\n",
    "data"
   ]
  },
  {
   "cell_type": "code",
   "execution_count": 5,
   "metadata": {
    "collapsed": false
   },
   "outputs": [
    {
     "data": {
      "text/plain": [
       "'2016-01-01 01:13:00'"
      ]
     },
     "execution_count": 5,
     "metadata": {},
     "output_type": "execute_result"
    }
   ],
   "source": [
    "stampdata = data[0:len(data) - 9] + ' ' + str(df['HORA'][0])\n",
    "stampdata"
   ]
  },
  {
   "cell_type": "code",
   "execution_count": 33,
   "metadata": {
    "collapsed": false
   },
   "outputs": [
    {
     "data": {
      "text/plain": [
       "'2016'"
      ]
     },
     "execution_count": 33,
     "metadata": {},
     "output_type": "execute_result"
    }
   ],
   "source": [
    "data[0:4]"
   ]
  },
  {
   "cell_type": "code",
   "execution_count": 6,
   "metadata": {
    "collapsed": false
   },
   "outputs": [
    {
     "data": {
      "text/plain": [
       "Timestamp('2016-01-01 01:13:00')"
      ]
     },
     "execution_count": 6,
     "metadata": {},
     "output_type": "execute_result"
    }
   ],
   "source": [
    "hora = Timestamp(stampdata)\n",
    "hora"
   ]
  },
  {
   "cell_type": "markdown",
   "metadata": {},
   "source": [
    "------------------------"
   ]
  },
  {
   "cell_type": "code",
   "execution_count": 14,
   "metadata": {
    "collapsed": false
   },
   "outputs": [],
   "source": [
    "datas = []\n",
    "\n",
    "for i in df['DATA'] :\n",
    "    datas.append(Timestamp(i))\n",
    "#datas"
   ]
  },
  {
   "cell_type": "code",
   "execution_count": 15,
   "metadata": {
    "collapsed": false
   },
   "outputs": [
    {
     "data": {
      "text/plain": [
       "list"
      ]
     },
     "execution_count": 15,
     "metadata": {},
     "output_type": "execute_result"
    }
   ],
   "source": [
    "datasstr = []\n",
    "\n",
    "for i in datas:\n",
    "    strdata = str(i)\n",
    "    datasstr.append(strdata)\n",
    "type(datasstr)"
   ]
  },
  {
   "cell_type": "code",
   "execution_count": 16,
   "metadata": {
    "collapsed": false
   },
   "outputs": [
    {
     "data": {
      "text/plain": [
       "'201'"
      ]
     },
     "execution_count": 16,
     "metadata": {},
     "output_type": "execute_result"
    }
   ],
   "source": [
    "datasstr[1][0:3]"
   ]
  },
  {
   "cell_type": "code",
   "execution_count": null,
   "metadata": {
    "collapsed": true
   },
   "outputs": [],
   "source": [
    "#Ja sei concatenar mas ainda nao eh a concatenacao correta\n",
    "datahora = []\n",
    "for l in range(len(datasstr)):\n",
    "    stampdatas = datasstr[l][0:len(datasstr[l]) - 9] + ' ' +str(df['HORA'][l])\n",
    "    datahora.append(stampdatas)\n",
    "datahora     "
   ]
  },
  {
   "cell_type": "markdown",
   "metadata": {
    "collapsed": true
   },
   "source": [
    "dataHORA = []\n",
    "for l in range(len(datasstr)):\n",
    "    stampdatas = datasstr[l][0:len(datasstr[l]) - 9] + ' ' +str(df['HORA'][l])\n",
    "    print(stampdatas)   "
   ]
  },
  {
   "cell_type": "code",
   "execution_count": 20,
   "metadata": {
    "collapsed": false
   },
   "outputs": [
    {
     "data": {
      "text/plain": [
       "'2016-01-02 00:00:00'"
      ]
     },
     "execution_count": 20,
     "metadata": {},
     "output_type": "execute_result"
    }
   ],
   "source": [
    "datasstr[1]"
   ]
  },
  {
   "cell_type": "code",
   "execution_count": 22,
   "metadata": {
    "collapsed": false
   },
   "outputs": [
    {
     "data": {
      "text/plain": [
       "'2016-01-02 01:43:00'"
      ]
     },
     "execution_count": 22,
     "metadata": {},
     "output_type": "execute_result"
    }
   ],
   "source": [
    "stampdatas = datasstr[1][0:len(datasstr[l]) - 9] + ' ' +str(df['HORA'][1])\n",
    "stampdatas"
   ]
  },
  {
   "cell_type": "code",
   "execution_count": 27,
   "metadata": {
    "collapsed": false
   },
   "outputs": [
    {
     "data": {
      "text/plain": [
       "['DATA',\n",
       " 'HORA',\n",
       " 'ALT',\n",
       " 'HORA.1',\n",
       " 'ALT.1',\n",
       " 'HORA.2',\n",
       " 'ALT.2',\n",
       " 'HORA.3',\n",
       " 'ALT.3',\n",
       " 'HORA.4',\n",
       " 'ALT.4',\n",
       " 'HORA.5',\n",
       " 'ALT.5',\n",
       " 'HORA.6',\n",
       " 'ALT.6',\n",
       " 'HORA.7',\n",
       " 'ALT.7']"
      ]
     },
     "execution_count": 27,
     "metadata": {},
     "output_type": "execute_result"
    }
   ],
   "source": [
    "cabecalho = []\n",
    "for i in df:\n",
    "    cabecalho.append(i)\n",
    "cabecalho   "
   ]
  },
  {
   "cell_type": "code",
   "execution_count": 30,
   "metadata": {
    "collapsed": false
   },
   "outputs": [
    {
     "name": "stdout",
     "output_type": "stream",
     "text": [
      "oi\n"
     ]
    }
   ],
   "source": [
    "string = \"hello world\"\n",
    "string.startswith(\"hello\")\n",
    "print('oi')\n"
   ]
  },
  {
   "cell_type": "code",
   "execution_count": 33,
   "metadata": {
    "collapsed": false
   },
   "outputs": [
    {
     "data": {
      "text/plain": [
       "['HORA', 'HORA.1', 'HORA.2', 'HORA.3', 'HORA.4', 'HORA.5', 'HORA.6', 'HORA.7']"
      ]
     },
     "execution_count": 33,
     "metadata": {},
     "output_type": "execute_result"
    }
   ],
   "source": [
    "strcabec = []\n",
    "for i in cabecalho:\n",
    "    if i.startswith('HORA'):\n",
    "        strcabec.append(i)\n",
    "strcabec"
   ]
  },
  {
   "cell_type": "code",
   "execution_count": 44,
   "metadata": {
    "collapsed": false
   },
   "outputs": [],
   "source": [
    "#Gratidao\n",
    "indice = []\n",
    "for l in range(len(datasstr)):\n",
    "    for i in strcabec:\n",
    "        stampdatas = datasstr[l][0:len(datasstr[l]) - 9] + ' ' +str(df[i][l])\n",
    "        indice.append(stampdatas)\n",
    "#indice"
   ]
  },
  {
   "cell_type": "code",
   "execution_count": 77,
   "metadata": {
    "collapsed": false
   },
   "outputs": [
    {
     "data": {
      "text/html": [
       "<div>\n",
       "<table border=\"1\" class=\"dataframe\">\n",
       "  <thead>\n",
       "    <tr style=\"text-align: right;\">\n",
       "      <th></th>\n",
       "      <th>ALT</th>\n",
       "    </tr>\n",
       "  </thead>\n",
       "  <tbody>\n",
       "    <tr>\n",
       "      <th>2016-01-01 01:13:00</th>\n",
       "      <td>0</td>\n",
       "    </tr>\n",
       "    <tr>\n",
       "      <th>2016-01-01 03:39:00</th>\n",
       "      <td>0</td>\n",
       "    </tr>\n",
       "    <tr>\n",
       "      <th>2016-01-01 07:17:00</th>\n",
       "      <td>0</td>\n",
       "    </tr>\n",
       "    <tr>\n",
       "      <th>2016-01-01 10:56:00</th>\n",
       "      <td>0</td>\n",
       "    </tr>\n",
       "    <tr>\n",
       "      <th>2016-01-01 13:21:00</th>\n",
       "      <td>0</td>\n",
       "    </tr>\n",
       "  </tbody>\n",
       "</table>\n",
       "</div>"
      ],
      "text/plain": [
       "                     ALT\n",
       "2016-01-01 01:13:00    0\n",
       "2016-01-01 03:39:00    0\n",
       "2016-01-01 07:17:00    0\n",
       "2016-01-01 10:56:00    0\n",
       "2016-01-01 13:21:00    0"
      ]
     },
     "execution_count": 77,
     "metadata": {},
     "output_type": "execute_result"
    }
   ],
   "source": [
    "#DataFrameDATAxAlT\n",
    "dfdxa = pd.DataFrame(indice)\n",
    "dfdxa.index = indice\n",
    "dfdxa.columns = ['ALT']\n",
    "dfdxa['ALT'] = 0\n",
    "dfdxa.head()"
   ]
  },
  {
   "cell_type": "code",
   "execution_count": 70,
   "metadata": {
    "collapsed": false
   },
   "outputs": [
    {
     "data": {
      "text/plain": [
       "0.69999999999999996"
      ]
     },
     "execution_count": 70,
     "metadata": {},
     "output_type": "execute_result"
    }
   ],
   "source": [
    "alt1 = df['ALT'][0]\n",
    "alt1"
   ]
  },
  {
   "cell_type": "code",
   "execution_count": 75,
   "metadata": {
    "collapsed": false
   },
   "outputs": [],
   "source": [
    "altura = []\n",
    "for p in range(len(datasstr)):\n",
    "    for i in cabecalho:\n",
    "        if i.startswith('ALT'):\n",
    "            altu = df[i][p]\n",
    "            altura.append(altu)\n",
    "#altura"
   ]
  },
  {
   "cell_type": "code",
   "execution_count": 80,
   "metadata": {
    "collapsed": false
   },
   "outputs": [
    {
     "data": {
      "text/html": [
       "<div>\n",
       "<table border=\"1\" class=\"dataframe\">\n",
       "  <thead>\n",
       "    <tr style=\"text-align: right;\">\n",
       "      <th></th>\n",
       "      <th>ALT</th>\n",
       "    </tr>\n",
       "  </thead>\n",
       "  <tbody>\n",
       "    <tr>\n",
       "      <th>2016-01-01 01:13:00</th>\n",
       "      <td>0.7</td>\n",
       "    </tr>\n",
       "    <tr>\n",
       "      <th>2016-01-01 03:39:00</th>\n",
       "      <td>0.5</td>\n",
       "    </tr>\n",
       "    <tr>\n",
       "      <th>2016-01-01 07:17:00</th>\n",
       "      <td>1.3</td>\n",
       "    </tr>\n",
       "    <tr>\n",
       "      <th>2016-01-01 10:56:00</th>\n",
       "      <td>0.6</td>\n",
       "    </tr>\n",
       "    <tr>\n",
       "      <th>2016-01-01 13:21:00</th>\n",
       "      <td>0.8</td>\n",
       "    </tr>\n",
       "  </tbody>\n",
       "</table>\n",
       "</div>"
      ],
      "text/plain": [
       "                     ALT\n",
       "2016-01-01 01:13:00  0.7\n",
       "2016-01-01 03:39:00  0.5\n",
       "2016-01-01 07:17:00  1.3\n",
       "2016-01-01 10:56:00  0.6\n",
       "2016-01-01 13:21:00  0.8"
      ]
     },
     "execution_count": 80,
     "metadata": {},
     "output_type": "execute_result"
    }
   ],
   "source": [
    "dfdxa['ALT'] = altura\n",
    "dfdxa.head()"
   ]
  },
  {
   "cell_type": "code",
   "execution_count": null,
   "metadata": {
    "collapsed": false
   },
   "outputs": [],
   "source": [
    "dfdxa['ALT'].plot(figsize=(15,5))\n",
    "plt.show()"
   ]
  },
  {
   "cell_type": "code",
   "execution_count": null,
   "metadata": {
    "collapsed": true
   },
   "outputs": [],
   "source": []
  }
 ],
 "metadata": {
  "kernelspec": {
   "display_name": "Python 3",
   "language": "python",
   "name": "python3"
  },
  "language_info": {
   "codemirror_mode": {
    "name": "ipython",
    "version": 3
   },
   "file_extension": ".py",
   "mimetype": "text/x-python",
   "name": "python",
   "nbconvert_exporter": "python",
   "pygments_lexer": "ipython3",
   "version": "3.5.1"
  }
 },
 "nbformat": 4,
 "nbformat_minor": 0
}

{
 "cells": [
  {
   "cell_type": "code",
   "execution_count": 68,
   "metadata": {
    "collapsed": false
   },
   "outputs": [],
   "source": [
    "from pandas import DataFrame, read_csv, datetime, Series, Timestamp\n",
    "import matplotlib.pyplot as plt\n",
    "import pandas as pd\n",
    "import matplotlib\n",
    "from pandas.tseries.offsets import *\n",
    "#%matplotlib inline"
   ]
  },
  {
   "cell_type": "code",
   "execution_count": 10,
   "metadata": {
    "collapsed": false
   },
   "outputs": [],
   "source": [
    "#Local = r'/home/pauloque/programacao/pauloqrepo/jupyter/grafico_mare/dados_brutos/alturas_mare2.csv'\n",
    "#df1 = pd.read_csv(Local, header = None)\n",
    "#df1 = pd.read_csv(Local, names = ['Data','H1','A1', 'H2', 'A2', 'H3', 'A3','H4', 'A4', 'H5', 'A5', 'H6', 'A6', 'H7', 'A7', 'H8', 'A8'])"
   ]
  },
  {
   "cell_type": "code",
   "execution_count": 9,
   "metadata": {
    "collapsed": false,
    "scrolled": true
   },
   "outputs": [],
   "source": [
    "#df1.head()"
   ]
  },
  {
   "cell_type": "code",
   "execution_count": 5,
   "metadata": {
    "collapsed": false
   },
   "outputs": [],
   "source": [
    "####df.to_excel('teste_excel_expo.xlsx', index = False)"
   ]
  },
  {
   "cell_type": "code",
   "execution_count": 11,
   "metadata": {
    "collapsed": false,
    "scrolled": true
   },
   "outputs": [],
   "source": [
    "loca = r'/home/pauloque/programacao/pauloqrepo/jupyter/grafico_mare/dados_brutos/alturas_mare_excel.xlsx'\n",
    "df = pd.read_excel(loca)"
   ]
  },
  {
   "cell_type": "code",
   "execution_count": 12,
   "metadata": {
    "collapsed": false
   },
   "outputs": [
    {
     "data": {
      "text/html": [
       "<div>\n",
       "<table border=\"1\" class=\"dataframe\">\n",
       "  <thead>\n",
       "    <tr style=\"text-align: right;\">\n",
       "      <th></th>\n",
       "      <th>DATA</th>\n",
       "      <th>HORA</th>\n",
       "      <th>ALT</th>\n",
       "      <th>HORA.1</th>\n",
       "      <th>ALT.1</th>\n",
       "      <th>HORA.2</th>\n",
       "      <th>ALT.2</th>\n",
       "      <th>HORA.3</th>\n",
       "      <th>ALT.3</th>\n",
       "      <th>HORA.4</th>\n",
       "      <th>ALT.4</th>\n",
       "      <th>HORA.5</th>\n",
       "      <th>ALT.5</th>\n",
       "      <th>HORA.6</th>\n",
       "      <th>ALT.6</th>\n",
       "      <th>HORA.7</th>\n",
       "      <th>ALT  HORA  ALT  HORA  ALT</th>\n",
       "    </tr>\n",
       "  </thead>\n",
       "  <tbody>\n",
       "    <tr>\n",
       "      <th>0</th>\n",
       "      <td>2016-01-01</td>\n",
       "      <td>01:13:00</td>\n",
       "      <td>0.7</td>\n",
       "      <td>03:39:00</td>\n",
       "      <td>0.5</td>\n",
       "      <td>07:17:00</td>\n",
       "      <td>1.3</td>\n",
       "      <td>10:56:00</td>\n",
       "      <td>0.6</td>\n",
       "      <td>13:21:00</td>\n",
       "      <td>0.8</td>\n",
       "      <td>15:54:00</td>\n",
       "      <td>0.6</td>\n",
       "      <td>19:36:00</td>\n",
       "      <td>1.3</td>\n",
       "      <td>23:13:00</td>\n",
       "      <td>0.6</td>\n",
       "    </tr>\n",
       "    <tr>\n",
       "      <th>1</th>\n",
       "      <td>2016-01-02</td>\n",
       "      <td>01:43:00</td>\n",
       "      <td>0.8</td>\n",
       "      <td>04:26:00</td>\n",
       "      <td>0.5</td>\n",
       "      <td>08:08:00</td>\n",
       "      <td>1.2</td>\n",
       "      <td>11:30:00</td>\n",
       "      <td>0.7</td>\n",
       "      <td>13:47:00</td>\n",
       "      <td>0.8</td>\n",
       "      <td>16:43:00</td>\n",
       "      <td>0.6</td>\n",
       "      <td>20:26:00</td>\n",
       "      <td>1.2</td>\n",
       "      <td>23:58:00</td>\n",
       "      <td>0.7</td>\n",
       "    </tr>\n",
       "    <tr>\n",
       "      <th>2</th>\n",
       "      <td>2016-01-03</td>\n",
       "      <td>02:00:00</td>\n",
       "      <td>0.8</td>\n",
       "      <td>05:11:00</td>\n",
       "      <td>0.5</td>\n",
       "      <td>09:04:00</td>\n",
       "      <td>1.1</td>\n",
       "      <td>12:13:00</td>\n",
       "      <td>0.8</td>\n",
       "      <td>13:56:00</td>\n",
       "      <td>0.9</td>\n",
       "      <td>17:24:00</td>\n",
       "      <td>0.5</td>\n",
       "      <td>21:28:00</td>\n",
       "      <td>1.2</td>\n",
       "      <td>NaN</td>\n",
       "      <td>NaN</td>\n",
       "    </tr>\n",
       "    <tr>\n",
       "      <th>3</th>\n",
       "      <td>2016-01-04</td>\n",
       "      <td>00:53:00</td>\n",
       "      <td>0.9</td>\n",
       "      <td>02:06:00</td>\n",
       "      <td>0.9</td>\n",
       "      <td>06:02:00</td>\n",
       "      <td>0.5</td>\n",
       "      <td>10:13:00</td>\n",
       "      <td>1.1</td>\n",
       "      <td>18:09:00</td>\n",
       "      <td>0.4</td>\n",
       "      <td>22:53:00</td>\n",
       "      <td>1.2</td>\n",
       "      <td>NaN</td>\n",
       "      <td>NaN</td>\n",
       "      <td>NaN</td>\n",
       "      <td>NaN</td>\n",
       "    </tr>\n",
       "    <tr>\n",
       "      <th>4</th>\n",
       "      <td>2016-01-05</td>\n",
       "      <td>06:56:00</td>\n",
       "      <td>0.4</td>\n",
       "      <td>11:49:00</td>\n",
       "      <td>1.1</td>\n",
       "      <td>18:58:00</td>\n",
       "      <td>0.3</td>\n",
       "      <td>NaN</td>\n",
       "      <td>NaN</td>\n",
       "      <td>NaN</td>\n",
       "      <td>NaN</td>\n",
       "      <td>NaN</td>\n",
       "      <td>NaN</td>\n",
       "      <td>NaN</td>\n",
       "      <td>NaN</td>\n",
       "      <td>NaN</td>\n",
       "      <td>NaN</td>\n",
       "    </tr>\n",
       "  </tbody>\n",
       "</table>\n",
       "</div>"
      ],
      "text/plain": [
       "        DATA      HORA  ALT    HORA.1  ALT.1    HORA.2  ALT.2    HORA.3  \\\n",
       "0 2016-01-01  01:13:00  0.7  03:39:00    0.5  07:17:00    1.3  10:56:00   \n",
       "1 2016-01-02  01:43:00  0.8  04:26:00    0.5  08:08:00    1.2  11:30:00   \n",
       "2 2016-01-03  02:00:00  0.8  05:11:00    0.5  09:04:00    1.1  12:13:00   \n",
       "3 2016-01-04  00:53:00  0.9  02:06:00    0.9  06:02:00    0.5  10:13:00   \n",
       "4 2016-01-05  06:56:00  0.4  11:49:00    1.1  18:58:00    0.3       NaN   \n",
       "\n",
       "   ALT.3    HORA.4  ALT.4    HORA.5  ALT.5    HORA.6  ALT.6    HORA.7  \\\n",
       "0    0.6  13:21:00    0.8  15:54:00    0.6  19:36:00    1.3  23:13:00   \n",
       "1    0.7  13:47:00    0.8  16:43:00    0.6  20:26:00    1.2  23:58:00   \n",
       "2    0.8  13:56:00    0.9  17:24:00    0.5  21:28:00    1.2       NaN   \n",
       "3    1.1  18:09:00    0.4  22:53:00    1.2       NaN    NaN       NaN   \n",
       "4    NaN       NaN    NaN       NaN    NaN       NaN    NaN       NaN   \n",
       "\n",
       "   ALT  HORA  ALT  HORA  ALT  \n",
       "0                        0.6  \n",
       "1                        0.7  \n",
       "2                        NaN  \n",
       "3                        NaN  \n",
       "4                        NaN  "
      ]
     },
     "execution_count": 12,
     "metadata": {},
     "output_type": "execute_result"
    }
   ],
   "source": [
    "df.head()"
   ]
  },
  {
   "cell_type": "code",
   "execution_count": 47,
   "metadata": {
    "collapsed": false
   },
   "outputs": [
    {
     "data": {
      "text/plain": [
       "datetime.datetime(2013, 2, 28, 1, 2)"
      ]
     },
     "execution_count": 47,
     "metadata": {},
     "output_type": "execute_result"
    }
   ],
   "source": [
    "datetime(2013,2,28,1,2)"
   ]
  },
  {
   "cell_type": "code",
   "execution_count": 13,
   "metadata": {
    "collapsed": false
   },
   "outputs": [
    {
     "name": "stdout",
     "output_type": "stream",
     "text": [
      "DATA\n",
      "HORA\n",
      "ALT\n",
      "HORA.1\n",
      "ALT.1\n",
      "HORA.2\n",
      "ALT.2\n",
      "HORA.3\n",
      "ALT.3\n",
      "HORA.4\n",
      "ALT.4\n",
      "HORA.5\n",
      "ALT.5\n",
      "HORA.6\n",
      "ALT.6\n",
      "HORA.7\n",
      "ALT  HORA  ALT  HORA  ALT\n"
     ]
    }
   ],
   "source": [
    "for i in df:\n",
    "    print(i)"
   ]
  },
  {
   "cell_type": "code",
   "execution_count": 8,
   "metadata": {
    "collapsed": false
   },
   "outputs": [],
   "source": [
    "#for i in df:\n",
    " #   if i == 'A1':\n",
    "  #      print(df[i])"
   ]
  },
  {
   "cell_type": "code",
   "execution_count": 9,
   "metadata": {
    "collapsed": false
   },
   "outputs": [
    {
     "ename": "TypeError",
     "evalue": "ufunc 'add' did not contain a loop with signature matching types dtype('<U32') dtype('<U32') dtype('<U32')",
     "output_type": "error",
     "traceback": [
      "\u001b[1;31m---------------------------------------------------------------------------\u001b[0m",
      "\u001b[1;31mTypeError\u001b[0m                                 Traceback (most recent call last)",
      "\u001b[1;32m<ipython-input-9-b7d0a2a89462>\u001b[0m in \u001b[0;36m<module>\u001b[1;34m()\u001b[0m\n\u001b[1;32m----> 1\u001b[1;33m \u001b[0mtest\u001b[0m \u001b[1;33m=\u001b[0m \u001b[0mdf\u001b[0m\u001b[1;33m[\u001b[0m\u001b[1;34m'Data'\u001b[0m\u001b[1;33m]\u001b[0m\u001b[1;33m[\u001b[0m\u001b[1;36m0\u001b[0m\u001b[1;33m]\u001b[0m \u001b[1;33m+\u001b[0m \u001b[0mdf\u001b[0m\u001b[1;33m[\u001b[0m\u001b[1;34m'A1'\u001b[0m\u001b[1;33m]\u001b[0m\u001b[1;33m[\u001b[0m\u001b[1;36m0\u001b[0m\u001b[1;33m]\u001b[0m\u001b[1;33m\u001b[0m\u001b[0m\n\u001b[0m",
      "\u001b[1;31mTypeError\u001b[0m: ufunc 'add' did not contain a loop with signature matching types dtype('<U32') dtype('<U32') dtype('<U32')"
     ]
    }
   ],
   "source": [
    "hora1 = df['HORA'][0] + df['A1'][0] "
   ]
  },
  {
   "cell_type": "code",
   "execution_count": 71,
   "metadata": {
    "collapsed": false
   },
   "outputs": [
    {
     "data": {
      "text/plain": [
       "datetime.time(1, 43)"
      ]
     },
     "execution_count": 71,
     "metadata": {},
     "output_type": "execute_result"
    }
   ],
   "source": [
    "d = df['HORA'][1]\n",
    "d"
   ]
  },
  {
   "cell_type": "code",
   "execution_count": 52,
   "metadata": {
    "collapsed": false
   },
   "outputs": [
    {
     "data": {
      "text/plain": [
       "datetime.datetime(2010, 11, 12, 0, 0)"
      ]
     },
     "execution_count": 52,
     "metadata": {},
     "output_type": "execute_result"
    }
   ],
   "source": [
    "datetime(2010,11,12)\n"
   ]
  },
  {
   "cell_type": "code",
   "execution_count": 76,
   "metadata": {
    "collapsed": false
   },
   "outputs": [
    {
     "ename": "ValueError",
     "evalue": "",
     "output_type": "error",
     "traceback": [
      "\u001b[1;31m---------------------------------------------------------------------------\u001b[0m",
      "\u001b[1;31mValueError\u001b[0m                                Traceback (most recent call last)",
      "\u001b[1;32mpandas/tslib.pyx\u001b[0m in \u001b[0;36mpandas.tslib.convert_str_to_tsobject (pandas/tslib.c:24121)\u001b[1;34m()\u001b[0m\n",
      "\u001b[1;32mpandas/src/datetime.pxd\u001b[0m in \u001b[0;36mdatetime._string_to_dts (pandas/tslib.c:81507)\u001b[1;34m()\u001b[0m\n",
      "\u001b[1;31mValueError\u001b[0m: Unable to parse b'2010, 11, 12, 0, 0'",
      "\nDuring handling of the above exception, another exception occurred:\n",
      "\u001b[1;31mValueError\u001b[0m                                Traceback (most recent call last)",
      "\u001b[1;32mpandas/tslib.pyx\u001b[0m in \u001b[0;36mpandas.tslib.convert_str_to_tsobject (pandas/tslib.c:24471)\u001b[1;34m()\u001b[0m\n",
      "\u001b[1;32mpandas/tslib.pyx\u001b[0m in \u001b[0;36mpandas.tslib.parse_datetime_string (pandas/tslib.c:29385)\u001b[1;34m()\u001b[0m\n",
      "\u001b[1;32m/home/pauloque/anaconda3/lib/python3.5/site-packages/dateutil/parser.py\u001b[0m in \u001b[0;36mparse\u001b[1;34m(timestr, parserinfo, **kwargs)\u001b[0m\n\u001b[0;32m   1007\u001b[0m     \u001b[1;32melse\u001b[0m\u001b[1;33m:\u001b[0m\u001b[1;33m\u001b[0m\u001b[0m\n\u001b[1;32m-> 1008\u001b[1;33m         \u001b[1;32mreturn\u001b[0m \u001b[0mDEFAULTPARSER\u001b[0m\u001b[1;33m.\u001b[0m\u001b[0mparse\u001b[0m\u001b[1;33m(\u001b[0m\u001b[0mtimestr\u001b[0m\u001b[1;33m,\u001b[0m \u001b[1;33m**\u001b[0m\u001b[0mkwargs\u001b[0m\u001b[1;33m)\u001b[0m\u001b[1;33m\u001b[0m\u001b[0m\n\u001b[0m\u001b[0;32m   1009\u001b[0m \u001b[1;33m\u001b[0m\u001b[0m\n",
      "\u001b[1;32m/home/pauloque/anaconda3/lib/python3.5/site-packages/dateutil/parser.py\u001b[0m in \u001b[0;36mparse\u001b[1;34m(self, timestr, default, ignoretz, tzinfos, **kwargs)\u001b[0m\n\u001b[0;32m    394\u001b[0m         \u001b[1;32mif\u001b[0m \u001b[0mres\u001b[0m \u001b[1;32mis\u001b[0m \u001b[1;32mNone\u001b[0m\u001b[1;33m:\u001b[0m\u001b[1;33m\u001b[0m\u001b[0m\n\u001b[1;32m--> 395\u001b[1;33m             \u001b[1;32mraise\u001b[0m \u001b[0mValueError\u001b[0m\u001b[1;33m(\u001b[0m\u001b[1;34m\"Unknown string format\"\u001b[0m\u001b[1;33m)\u001b[0m\u001b[1;33m\u001b[0m\u001b[0m\n\u001b[0m\u001b[0;32m    396\u001b[0m \u001b[1;33m\u001b[0m\u001b[0m\n",
      "\u001b[1;31mValueError\u001b[0m: Unknown string format",
      "\nDuring handling of the above exception, another exception occurred:\n",
      "\u001b[1;31mValueError\u001b[0m                                Traceback (most recent call last)",
      "\u001b[1;32m<ipython-input-76-bb93698d96a1>\u001b[0m in \u001b[0;36m<module>\u001b[1;34m()\u001b[0m\n\u001b[1;32m----> 1\u001b[1;33m \u001b[0mTimestamp\u001b[0m\u001b[1;33m(\u001b[0m\u001b[1;34m'2010, 11, 12, 0, 0'\u001b[0m\u001b[1;33m)\u001b[0m\u001b[1;33m\u001b[0m\u001b[0m\n\u001b[0m",
      "\u001b[1;32mpandas/tslib.pyx\u001b[0m in \u001b[0;36mpandas.tslib.Timestamp.__new__ (pandas/tslib.c:8973)\u001b[1;34m()\u001b[0m\n",
      "\u001b[1;32mpandas/tslib.pyx\u001b[0m in \u001b[0;36mpandas.tslib.convert_to_tsobject (pandas/tslib.c:22522)\u001b[1;34m()\u001b[0m\n",
      "\u001b[1;32mpandas/tslib.pyx\u001b[0m in \u001b[0;36mpandas.tslib.convert_str_to_tsobject (pandas/tslib.c:24520)\u001b[1;34m()\u001b[0m\n",
      "\u001b[1;31mValueError\u001b[0m: "
     ]
    }
   ],
   "source": [
    "Timestamp('2010, 11, 12, 0, 0')"
   ]
  },
  {
   "cell_type": "code",
   "execution_count": null,
   "metadata": {
    "collapsed": true
   },
   "outputs": [],
   "source": []
  },
  {
   "cell_type": "code",
   "execution_count": null,
   "metadata": {
    "collapsed": true
   },
   "outputs": [],
   "source": []
  }
 ],
 "metadata": {
  "kernelspec": {
   "display_name": "Python 3",
   "language": "python",
   "name": "python3"
  },
  "language_info": {
   "codemirror_mode": {
    "name": "ipython",
    "version": 3
   },
   "file_extension": ".py",
   "mimetype": "text/x-python",
   "name": "python",
   "nbconvert_exporter": "python",
   "pygments_lexer": "ipython3",
   "version": "3.5.1"
  }
 },
 "nbformat": 4,
 "nbformat_minor": 0
}

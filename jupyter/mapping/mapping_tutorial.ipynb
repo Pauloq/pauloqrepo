{
 "cells": [
  {
   "cell_type": "code",
   "execution_count": 1,
   "metadata": {
    "collapsed": false
   },
   "outputs": [
    {
     "name": "stderr",
     "output_type": "stream",
     "text": [
      "/home/pauloque/anaconda3/lib/python3.5/site-packages/matplotlib/collections.py:590: FutureWarning: elementwise comparison failed; returning scalar instead, but in the future will perform elementwise comparison\n",
      "  if self._edgecolors == str('face'):\n"
     ]
    }
   ],
   "source": [
    "import matplotlib.pyplot as plt\n",
    "from mpl_toolkits.basemap import Basemap\n",
    "import numpy as np\n",
    "\n",
    "# lon_0, lat_0 are the center point of the projection.\n",
    "# resolution = 'l' means use low resolution coastlines.\n",
    "m = Basemap(projection='ortho',lon_0=-45,lat_0=-25,resolution='l')\n",
    "m.drawcoastlines()\n",
    "m.fillcontinents(color='coral',lake_color='aqua')\n",
    "# draw parallels and meridians.\n",
    "m.drawparallels(np.arange(-90.,120.,15.))\n",
    "m.drawmeridians(np.arange(0.,420.,15.))\n",
    "m.drawmapboundary(fill_color='aqua')\n",
    "plt.title(\"Full Disk Orthographic Projection\")\n",
    "plt.show()"
   ]
  },
  {
   "cell_type": "code",
   "execution_count": 3,
   "metadata": {
    "collapsed": true
   },
   "outputs": [],
   "source": [
    "?Basemap"
   ]
  },
  {
   "cell_type": "code",
   "execution_count": null,
   "metadata": {
    "collapsed": false
   },
   "outputs": [],
   "source": [
    "from mpl_toolkits.basemap import Basemap\n",
    "import matplotlib.pyplot as plt\n",
    "import numpy as np\n",
    "# set up orthographic map projection with\n",
    "# perspective of satellite looking down at 50N, 100W.\n",
    "# use low resolution coastlines.\n",
    "map = Basemap(projection='ortho',lat_0=-25,lon_0=-45,resolution='l')\n",
    "# draw coastlines, country boundaries, fill continents.\n",
    "map.drawcoastlines(linewidth=0.25)\n",
    "map.drawcountries(linewidth=0.25)\n",
    "map.fillcontinents(color='coral',lake_color='aqua')\n",
    "# draw the edge of the map projection region (the projection limb)\n",
    "map.drawmapboundary(fill_color='aqua')\n",
    "# draw lat/lon grid lines every 30 degrees.\n",
    "map.drawmeridians(np.arange(0,360,30))\n",
    "map.drawparallels(np.arange(-90,90,30))\n",
    "# make up some data on a regular lat/lon grid.\n",
    "nlats = 73; nlons = 145; delta = 2.*np.pi/(nlons-1)\n",
    "lats = (0.5*np.pi-delta*np.indices((nlats,nlons))[0,:,:])\n",
    "lons = (delta*np.indices((nlats,nlons))[1,:,:])\n",
    "wave = 0.75*(np.sin(2.*lats)**8*np.cos(4.*lons))\n",
    "mean = 0.5*np.cos(2.*lats)*((np.sin(2.*lats))**2 + 2.)\n",
    "# compute native map projection coordinates of lat/lon grid.\n",
    "x, y = map(lons*180./np.pi, lats*180./np.pi)\n",
    "# contour data over the map.\n",
    "cs = map.contour(x,y,wave+mean,15,linewidths=1.5)\n",
    "plt.title('contour lines over filled continent background')\n",
    "plt.show()"
   ]
  },
  {
   "cell_type": "code",
   "execution_count": 4,
   "metadata": {
    "collapsed": false
   },
   "outputs": [
    {
     "ename": "ImportError",
     "evalue": "No module named 'netCDF4'",
     "output_type": "error",
     "traceback": [
      "\u001b[1;31m---------------------------------------------------------------------------\u001b[0m",
      "\u001b[1;31mImportError\u001b[0m                               Traceback (most recent call last)",
      "\u001b[1;32m<ipython-input-4-8917618809ae>\u001b[0m in \u001b[0;36m<module>\u001b[1;34m()\u001b[0m\n\u001b[0;32m      1\u001b[0m \u001b[1;32mfrom\u001b[0m \u001b[0mmpl_toolkits\u001b[0m\u001b[1;33m.\u001b[0m\u001b[0mbasemap\u001b[0m \u001b[1;32mimport\u001b[0m \u001b[0mBasemap\u001b[0m\u001b[1;33m,\u001b[0m \u001b[0mcm\u001b[0m\u001b[1;33m\u001b[0m\u001b[0m\n\u001b[0;32m      2\u001b[0m \u001b[1;31m# requires netcdf4-python (netcdf4-python.googlecode.com)\u001b[0m\u001b[1;33m\u001b[0m\u001b[1;33m\u001b[0m\u001b[0m\n\u001b[1;32m----> 3\u001b[1;33m \u001b[1;32mfrom\u001b[0m \u001b[0mnetCDF4\u001b[0m \u001b[1;32mimport\u001b[0m \u001b[0mDataset\u001b[0m \u001b[1;32mas\u001b[0m \u001b[0mNetCDFFile\u001b[0m\u001b[1;33m\u001b[0m\u001b[0m\n\u001b[0m\u001b[0;32m      4\u001b[0m \u001b[1;32mimport\u001b[0m \u001b[0mnumpy\u001b[0m \u001b[1;32mas\u001b[0m \u001b[0mnp\u001b[0m\u001b[1;33m\u001b[0m\u001b[0m\n\u001b[0;32m      5\u001b[0m \u001b[1;32mimport\u001b[0m \u001b[0mmatplotlib\u001b[0m\u001b[1;33m.\u001b[0m\u001b[0mpyplot\u001b[0m \u001b[1;32mas\u001b[0m \u001b[0mplt\u001b[0m\u001b[1;33m\u001b[0m\u001b[0m\n",
      "\u001b[1;31mImportError\u001b[0m: No module named 'netCDF4'"
     ]
    }
   ],
   "source": [
    "from mpl_toolkits.basemap import Basemap, cm\n",
    "# requires netcdf4-python (netcdf4-python.googlecode.com)\n",
    "from netCDF4 import Dataset as NetCDFFile\n",
    "import numpy as np\n",
    "import matplotlib.pyplot as plt\n",
    "\n",
    "# plot rainfall from NWS using special precipitation\n",
    "# colormap used by the NWS, and included in basemap.\n",
    "\n",
    "nc = NetCDFFile('../../../examples/nws_precip_conus_20061222.nc')\n",
    "# data from http://water.weather.gov/precip/\n",
    "prcpvar = nc.variables['amountofprecip']\n",
    "data = 0.01*prcpvar[:]\n",
    "latcorners = nc.variables['lat'][:]\n",
    "loncorners = -nc.variables['lon'][:]\n",
    "lon_0 = -nc.variables['true_lon'].getValue()\n",
    "lat_0 = nc.variables['true_lat'].getValue()\n",
    "# create figure and axes instances\n",
    "fig = plt.figure(figsize=(8,8))\n",
    "ax = fig.add_axes([0.1,0.1,0.8,0.8])\n",
    "# create polar stereographic Basemap instance.\n",
    "m = Basemap(projection='stere',lon_0=lon_0,lat_0=90.,lat_ts=lat_0,\\\n",
    "            llcrnrlat=latcorners[0],urcrnrlat=latcorners[2],\\\n",
    "            llcrnrlon=loncorners[0],urcrnrlon=loncorners[2],\\\n",
    "            rsphere=6371200.,resolution='l',area_thresh=10000)\n",
    "# draw coastlines, state and country boundaries, edge of map.\n",
    "m.drawcoastlines()\n",
    "m.drawstates()\n",
    "m.drawcountries()\n",
    "# draw parallels.\n",
    "parallels = np.arange(0.,90,10.)\n",
    "m.drawparallels(parallels,labels=[1,0,0,0],fontsize=10)\n",
    "# draw meridians\n",
    "meridians = np.arange(180.,360.,10.)\n",
    "m.drawmeridians(meridians,labels=[0,0,0,1],fontsize=10)\n",
    "ny = data.shape[0]; nx = data.shape[1]\n",
    "lons, lats = m.makegrid(nx, ny) # get lat/lons of ny by nx evenly space grid.\n",
    "x, y = m(lons, lats) # compute map proj coordinates.\n",
    "# draw filled contours.\n",
    "clevs = [0,1,2.5,5,7.5,10,15,20,30,40,50,70,100,150,200,250,300,400,500,600,750]\n",
    "cs = m.contourf(x,y,data,clevs,cmap=cm.s3pcpn)\n",
    "# add colorbar.\n",
    "cbar = m.colorbar(cs,location='bottom',pad=\"5%\")\n",
    "cbar.set_label('mm')\n",
    "# add title\n",
    "plt.title(prcpvar.long_name+' for period ending '+prcpvar.dateofdata)\n",
    "plt.show()\n"
   ]
  },
  {
   "cell_type": "code",
   "execution_count": 2,
   "metadata": {
    "collapsed": true
   },
   "outputs": [],
   "source": []
  },
  {
   "cell_type": "code",
   "execution_count": null,
   "metadata": {
    "collapsed": true
   },
   "outputs": [],
   "source": []
  }
 ],
 "metadata": {
  "kernelspec": {
   "display_name": "Python 3",
   "language": "python",
   "name": "python3"
  },
  "language_info": {
   "codemirror_mode": {
    "name": "ipython",
    "version": 3
   },
   "file_extension": ".py",
   "mimetype": "text/x-python",
   "name": "python",
   "nbconvert_exporter": "python",
   "pygments_lexer": "ipython3",
   "version": "3.5.1"
  }
 },
 "nbformat": 4,
 "nbformat_minor": 0
}
